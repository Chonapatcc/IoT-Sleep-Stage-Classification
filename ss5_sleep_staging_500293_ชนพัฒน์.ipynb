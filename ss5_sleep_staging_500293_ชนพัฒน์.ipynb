{
 "cells": [
  {
   "cell_type": "code",
   "execution_count": 1,
   "id": "9afb4884",
   "metadata": {
    "execution": {
     "iopub.execute_input": "2025-02-22T00:02:37.814717Z",
     "iopub.status.busy": "2025-02-22T00:02:37.814403Z",
     "iopub.status.idle": "2025-02-22T00:02:44.057002Z",
     "shell.execute_reply": "2025-02-22T00:02:44.055704Z"
    },
    "papermill": {
     "duration": 6.250607,
     "end_time": "2025-02-22T00:02:44.058753",
     "exception": false,
     "start_time": "2025-02-22T00:02:37.808146",
     "status": "completed"
    },
    "tags": []
   },
   "outputs": [
    {
     "name": "stdout",
     "output_type": "stream",
     "text": [
      "Requirement already satisfied: keras in /usr/local/lib/python3.10/dist-packages (3.5.0)\r\n",
      "Collecting keras\r\n",
      "  Downloading keras-3.8.0-py3-none-any.whl.metadata (5.8 kB)\r\n",
      "Requirement already satisfied: absl-py in /usr/local/lib/python3.10/dist-packages (from keras) (1.4.0)\r\n",
      "Requirement already satisfied: numpy in /usr/local/lib/python3.10/dist-packages (from keras) (1.26.4)\r\n",
      "Requirement already satisfied: rich in /usr/local/lib/python3.10/dist-packages (from keras) (13.9.4)\r\n",
      "Requirement already satisfied: namex in /usr/local/lib/python3.10/dist-packages (from keras) (0.0.8)\r\n",
      "Requirement already satisfied: h5py in /usr/local/lib/python3.10/dist-packages (from keras) (3.12.1)\r\n",
      "Requirement already satisfied: optree in /usr/local/lib/python3.10/dist-packages (from keras) (0.13.1)\r\n",
      "Requirement already satisfied: ml-dtypes in /usr/local/lib/python3.10/dist-packages (from keras) (0.4.1)\r\n",
      "Requirement already satisfied: packaging in /usr/local/lib/python3.10/dist-packages (from keras) (24.2)\r\n",
      "Requirement already satisfied: mkl_fft in /usr/local/lib/python3.10/dist-packages (from numpy->keras) (1.3.8)\r\n",
      "Requirement already satisfied: mkl_random in /usr/local/lib/python3.10/dist-packages (from numpy->keras) (1.2.4)\r\n",
      "Requirement already satisfied: mkl_umath in /usr/local/lib/python3.10/dist-packages (from numpy->keras) (0.1.1)\r\n",
      "Requirement already satisfied: mkl in /usr/local/lib/python3.10/dist-packages (from numpy->keras) (2025.0.1)\r\n",
      "Requirement already satisfied: tbb4py in /usr/local/lib/python3.10/dist-packages (from numpy->keras) (2022.0.0)\r\n",
      "Requirement already satisfied: mkl-service in /usr/local/lib/python3.10/dist-packages (from numpy->keras) (2.4.1)\r\n",
      "Requirement already satisfied: typing-extensions>=4.5.0 in /usr/local/lib/python3.10/dist-packages (from optree->keras) (4.12.2)\r\n",
      "Requirement already satisfied: markdown-it-py>=2.2.0 in /usr/local/lib/python3.10/dist-packages (from rich->keras) (3.0.0)\r\n",
      "Requirement already satisfied: pygments<3.0.0,>=2.13.0 in /usr/local/lib/python3.10/dist-packages (from rich->keras) (2.19.1)\r\n",
      "Requirement already satisfied: mdurl~=0.1 in /usr/local/lib/python3.10/dist-packages (from markdown-it-py>=2.2.0->rich->keras) (0.1.2)\r\n",
      "Requirement already satisfied: intel-openmp>=2024 in /usr/local/lib/python3.10/dist-packages (from mkl->numpy->keras) (2024.2.0)\r\n",
      "Requirement already satisfied: tbb==2022.* in /usr/local/lib/python3.10/dist-packages (from mkl->numpy->keras) (2022.0.0)\r\n",
      "Requirement already satisfied: tcmlib==1.* in /usr/local/lib/python3.10/dist-packages (from tbb==2022.*->mkl->numpy->keras) (1.2.0)\r\n",
      "Requirement already satisfied: intel-cmplr-lib-rt in /usr/local/lib/python3.10/dist-packages (from mkl_umath->numpy->keras) (2024.2.0)\r\n",
      "Requirement already satisfied: intel-cmplr-lib-ur==2024.2.0 in /usr/local/lib/python3.10/dist-packages (from intel-openmp>=2024->mkl->numpy->keras) (2024.2.0)\r\n",
      "Downloading keras-3.8.0-py3-none-any.whl (1.3 MB)\r\n",
      "\u001b[2K   \u001b[90m━━━━━━━━━━━━━━━━━━━━━━━━━━━━━━━━━━━━━━━━\u001b[0m \u001b[32m1.3/1.3 MB\u001b[0m \u001b[31m19.3 MB/s\u001b[0m eta \u001b[36m0:00:00\u001b[0m\r\n",
      "\u001b[?25hInstalling collected packages: keras\r\n",
      "  Attempting uninstall: keras\r\n",
      "    Found existing installation: keras 3.5.0\r\n",
      "    Uninstalling keras-3.5.0:\r\n",
      "      Successfully uninstalled keras-3.5.0\r\n",
      "\u001b[31mERROR: pip's dependency resolver does not currently take into account all the packages that are installed. This behaviour is the source of the following dependency conflicts.\r\n",
      "tensorflow-decision-forests 1.10.0 requires tensorflow==2.17.0, but you have tensorflow 2.17.1 which is incompatible.\u001b[0m\u001b[31m\r\n",
      "\u001b[0mSuccessfully installed keras-3.8.0\r\n"
     ]
    }
   ],
   "source": [
    "!pip install keras --upgrade\n"
   ]
  },
  {
   "cell_type": "code",
   "execution_count": 2,
   "id": "e3cc0451",
   "metadata": {
    "execution": {
     "iopub.execute_input": "2025-02-22T00:02:44.070217Z",
     "iopub.status.busy": "2025-02-22T00:02:44.069927Z",
     "iopub.status.idle": "2025-02-22T00:02:57.150899Z",
     "shell.execute_reply": "2025-02-22T00:02:57.149950Z"
    },
    "papermill": {
     "duration": 13.088516,
     "end_time": "2025-02-22T00:02:57.152852",
     "exception": false,
     "start_time": "2025-02-22T00:02:44.064336",
     "status": "completed"
    },
    "tags": []
   },
   "outputs": [],
   "source": [
    "import pandas as pd\n",
    "import numpy as np\n",
    "import os\n",
    "from sklearn.model_selection import train_test_split\n",
    "from sklearn.preprocessing import StandardScaler\n",
    "from tensorflow import keras\n",
    "from tensorflow.keras import layers\n",
    "from sklearn.metrics import confusion_matrix, classification_report  # For evaluation"
   ]
  },
  {
   "cell_type": "code",
   "execution_count": 3,
   "id": "007fe0b1",
   "metadata": {
    "execution": {
     "iopub.execute_input": "2025-02-22T00:02:57.164143Z",
     "iopub.status.busy": "2025-02-22T00:02:57.163621Z",
     "iopub.status.idle": "2025-02-22T00:02:57.170103Z",
     "shell.execute_reply": "2025-02-22T00:02:57.169483Z"
    },
    "papermill": {
     "duration": 0.013242,
     "end_time": "2025-02-22T00:02:57.171294",
     "exception": false,
     "start_time": "2025-02-22T00:02:57.158052",
     "status": "completed"
    },
    "tags": []
   },
   "outputs": [],
   "source": [
    "import pandas as pd\n",
    "import numpy as np\n",
    "import os\n",
    "from collections import Counter\n",
    "\n",
    "def load_and_preprocess_data(directory):\n",
    "    data = []\n",
    "    for filename in os.listdir(directory):\n",
    "        if filename.endswith(\".csv\"):\n",
    "            filepath = os.path.join(directory, filename)\n",
    "            df = pd.read_csv(filepath)\n",
    "\n",
    "            num_time_steps = 480\n",
    "            num_features = df.shape[1] -1 # Number of features (excluding the label)\n",
    "            num_segments = len(df) // num_time_steps  # Calculate the number of full 480-row segments\n",
    "\n",
    "            for i in range(num_segments):\n",
    "                start_idx = i * num_time_steps\n",
    "                end_idx = (i + 1) * num_time_steps\n",
    "                segment_df = df.iloc[start_idx:end_idx] # Extract a 480-row segment\n",
    "\n",
    "                # --- Label Selection Logic (within each segment) ---\n",
    "                label_counts = Counter(segment_df['Sleep_Stage'])\n",
    "                lowest_count_label = label_counts.most_common()[-1][0]\n",
    "                segment_df_filtered = segment_df[segment_df['Sleep_Stage'] == lowest_count_label]\n",
    "\n",
    "                if not segment_df_filtered.empty: #Check if the label existed in the segment\n",
    "                    label = segment_df_filtered['Sleep_Stage'].iloc[0]\n",
    "                    features = segment_df_filtered.drop('Sleep_Stage', axis=1)\n",
    "                    reshaped_features = np.array(features).reshape(1, num_time_steps, num_features) # Reshape for single segment\n",
    "\n",
    "                    data.append([reshaped_features[0], label]) # Append the segment and its label\n",
    "\n",
    "    df_final = pd.DataFrame(data, columns=['features', 'label'])\n",
    "    return df_final"
   ]
  },
  {
   "cell_type": "code",
   "execution_count": 4,
   "id": "ecfd47a1",
   "metadata": {
    "execution": {
     "iopub.execute_input": "2025-02-22T00:02:57.181838Z",
     "iopub.status.busy": "2025-02-22T00:02:57.181549Z",
     "iopub.status.idle": "2025-02-22T00:02:57.186246Z",
     "shell.execute_reply": "2025-02-22T00:02:57.185670Z"
    },
    "papermill": {
     "duration": 0.011163,
     "end_time": "2025-02-22T00:02:57.187387",
     "exception": false,
     "start_time": "2025-02-22T00:02:57.176224",
     "status": "completed"
    },
    "tags": []
   },
   "outputs": [],
   "source": [
    "def load_and_preprocess_data_test(directory):\n",
    "    directory = \"/kaggle/input/io-t-sleep-stage-classification-version-2/test_segment/test_segment\"\n",
    "    data = []\n",
    "    for folder in os.listdir(directory):\n",
    "        path = os.path.join(directory,folder)\n",
    "        for filename in os.listdir(path):\n",
    "            if filename.endswith(\".csv\"):\n",
    "                filepath = os.path.join(path, filename)\n",
    "                name = filepath.split('.csv')[0]\n",
    "                df = pd.read_csv(filepath)\n",
    "                label = '' # All rows in a 30 sec segment have the same label\n",
    "                features = df\n",
    "                # Reshape to (samples, time_steps, features)\n",
    "                # 16 Hz * 30 seconds = 480 time steps per segment\n",
    "                num_time_steps = 480\n",
    "                num_features = features.shape[1]\n",
    "                reshaped_features = np.array(features).reshape(-1, num_time_steps, num_features) # -1 infers number of samples\n",
    "                data.append([name,reshaped_features[0]])\n",
    "            \n",
    "\n",
    "    df_final = pd.DataFrame(data, columns=['id','features'])\n",
    "    return df_final"
   ]
  },
  {
   "cell_type": "code",
   "execution_count": 5,
   "id": "8290bd43",
   "metadata": {
    "_cell_guid": "b1076dfc-b9ad-4769-8c92-a6c4dae69d19",
    "_uuid": "8f2839f25d086af736a60e9eeb907d3b93b6e0e5",
    "execution": {
     "iopub.execute_input": "2025-02-22T00:02:57.197801Z",
     "iopub.status.busy": "2025-02-22T00:02:57.197542Z",
     "iopub.status.idle": "2025-02-22T00:05:17.038232Z",
     "shell.execute_reply": "2025-02-22T00:05:17.037504Z"
    },
    "papermill": {
     "duration": 139.847631,
     "end_time": "2025-02-22T00:05:17.039925",
     "exception": false,
     "start_time": "2025-02-22T00:02:57.192294",
     "status": "completed"
    },
    "tags": []
   },
   "outputs": [],
   "source": [
    "\n",
    "train_dir = \"/kaggle/input/io-t-sleep-stage-classification-version-2/train/train\"  # Path to your training data folder\n",
    "test_segment_dir = \"/kaggle/input/io-t-sleep-stage-classification-version-2/test_segment/test_segment/test001\" # Path to your test segments data\n",
    "submission_file = \"sample_submission.csv\"\n",
    "\n",
    "train_data = load_and_preprocess_data(train_dir)\n",
    "\n"
   ]
  },
  {
   "cell_type": "code",
   "execution_count": 6,
   "id": "59de49ec",
   "metadata": {
    "execution": {
     "iopub.execute_input": "2025-02-22T00:05:17.051431Z",
     "iopub.status.busy": "2025-02-22T00:05:17.051139Z",
     "iopub.status.idle": "2025-02-22T00:05:17.062756Z",
     "shell.execute_reply": "2025-02-22T00:05:17.061954Z"
    },
    "papermill": {
     "duration": 0.018679,
     "end_time": "2025-02-22T00:05:17.064083",
     "exception": false,
     "start_time": "2025-02-22T00:05:17.045404",
     "status": "completed"
    },
    "tags": []
   },
   "outputs": [
    {
     "data": {
      "text/plain": [
       "array(['W', 'N', 'R'], dtype=object)"
      ]
     },
     "execution_count": 6,
     "metadata": {},
     "output_type": "execute_result"
    }
   ],
   "source": [
    "train_data.label.unique()"
   ]
  },
  {
   "cell_type": "code",
   "execution_count": 7,
   "id": "98f9c27e",
   "metadata": {
    "execution": {
     "iopub.execute_input": "2025-02-22T00:05:17.074936Z",
     "iopub.status.busy": "2025-02-22T00:05:17.074670Z",
     "iopub.status.idle": "2025-02-22T00:05:17.317839Z",
     "shell.execute_reply": "2025-02-22T00:05:17.316950Z"
    },
    "papermill": {
     "duration": 0.250016,
     "end_time": "2025-02-22T00:05:17.319266",
     "exception": false,
     "start_time": "2025-02-22T00:05:17.069250",
     "status": "completed"
    },
    "tags": []
   },
   "outputs": [
    {
     "data": {
      "text/html": [
       "<div>\n",
       "<style scoped>\n",
       "    .dataframe tbody tr th:only-of-type {\n",
       "        vertical-align: middle;\n",
       "    }\n",
       "\n",
       "    .dataframe tbody tr th {\n",
       "        vertical-align: top;\n",
       "    }\n",
       "\n",
       "    .dataframe thead th {\n",
       "        text-align: right;\n",
       "    }\n",
       "</style>\n",
       "<table border=\"1\" class=\"dataframe\">\n",
       "  <thead>\n",
       "    <tr style=\"text-align: right;\">\n",
       "      <th></th>\n",
       "      <th>features</th>\n",
       "      <th>label</th>\n",
       "    </tr>\n",
       "  </thead>\n",
       "  <tbody>\n",
       "    <tr>\n",
       "      <th>144</th>\n",
       "      <td>[[-0.6929213388638342, -28.563517861705893, -3...</td>\n",
       "      <td>R</td>\n",
       "    </tr>\n",
       "    <tr>\n",
       "      <th>145</th>\n",
       "      <td>[[-70.41982434858774, -28.65922219127341, -36....</td>\n",
       "      <td>R</td>\n",
       "    </tr>\n",
       "    <tr>\n",
       "      <th>146</th>\n",
       "      <td>[[30.840163680674085, -28.71542383497956, -36....</td>\n",
       "      <td>R</td>\n",
       "    </tr>\n",
       "    <tr>\n",
       "      <th>147</th>\n",
       "      <td>[[32.253061766875646, -28.672256841291503, -36...</td>\n",
       "      <td>R</td>\n",
       "    </tr>\n",
       "    <tr>\n",
       "      <th>148</th>\n",
       "      <td>[[-3.0849055195987773, -28.324518154686427, -3...</td>\n",
       "      <td>R</td>\n",
       "    </tr>\n",
       "    <tr>\n",
       "      <th>...</th>\n",
       "      <td>...</td>\n",
       "      <td>...</td>\n",
       "    </tr>\n",
       "    <tr>\n",
       "      <th>65747</th>\n",
       "      <td>[[11.971762269761369, -60.30173877407333, -15....</td>\n",
       "      <td>R</td>\n",
       "    </tr>\n",
       "    <tr>\n",
       "      <th>65748</th>\n",
       "      <td>[[24.58346023731236, -60.30173877407333, -15.8...</td>\n",
       "      <td>R</td>\n",
       "    </tr>\n",
       "    <tr>\n",
       "      <th>65749</th>\n",
       "      <td>[[20.01616908200901, -60.30173877407333, -15.8...</td>\n",
       "      <td>R</td>\n",
       "    </tr>\n",
       "    <tr>\n",
       "      <th>65750</th>\n",
       "      <td>[[-22.09964431649612, -60.30173877797718, -15....</td>\n",
       "      <td>R</td>\n",
       "    </tr>\n",
       "    <tr>\n",
       "      <th>65751</th>\n",
       "      <td>[[25.96410717521754, -60.30173877407344, -15.3...</td>\n",
       "      <td>R</td>\n",
       "    </tr>\n",
       "  </tbody>\n",
       "</table>\n",
       "<p>6996 rows × 2 columns</p>\n",
       "</div>"
      ],
      "text/plain": [
       "                                                features label\n",
       "144    [[-0.6929213388638342, -28.563517861705893, -3...     R\n",
       "145    [[-70.41982434858774, -28.65922219127341, -36....     R\n",
       "146    [[30.840163680674085, -28.71542383497956, -36....     R\n",
       "147    [[32.253061766875646, -28.672256841291503, -36...     R\n",
       "148    [[-3.0849055195987773, -28.324518154686427, -3...     R\n",
       "...                                                  ...   ...\n",
       "65747  [[11.971762269761369, -60.30173877407333, -15....     R\n",
       "65748  [[24.58346023731236, -60.30173877407333, -15.8...     R\n",
       "65749  [[20.01616908200901, -60.30173877407333, -15.8...     R\n",
       "65750  [[-22.09964431649612, -60.30173877797718, -15....     R\n",
       "65751  [[25.96410717521754, -60.30173877407344, -15.3...     R\n",
       "\n",
       "[6996 rows x 2 columns]"
      ]
     },
     "execution_count": 7,
     "metadata": {},
     "output_type": "execute_result"
    }
   ],
   "source": [
    "train_data[train_data.label == 'R']"
   ]
  },
  {
   "cell_type": "code",
   "execution_count": 8,
   "id": "f4a8d68a",
   "metadata": {
    "execution": {
     "iopub.execute_input": "2025-02-22T00:05:17.331257Z",
     "iopub.status.busy": "2025-02-22T00:05:17.331002Z",
     "iopub.status.idle": "2025-02-22T00:05:18.672765Z",
     "shell.execute_reply": "2025-02-22T00:05:18.672025Z"
    },
    "papermill": {
     "duration": 1.349306,
     "end_time": "2025-02-22T00:05:18.674277",
     "exception": false,
     "start_time": "2025-02-22T00:05:17.324971",
     "status": "completed"
    },
    "tags": []
   },
   "outputs": [],
   "source": [
    "from sklearn.preprocessing import StandardScaler, LabelEncoder \n",
    "X = np.array(list(train_data['features']))\n",
    "y = np.array(train_data['label'])\n",
    "le = LabelEncoder()\n",
    "y = le.fit_transform(y) \n",
    "X_train, X_test, y_train, y_test = train_test_split(X, y, test_size=0.1, random_state=42) # 30% for temp (validation + test)"
   ]
  },
  {
   "cell_type": "code",
   "execution_count": 9,
   "id": "b9e4585e",
   "metadata": {
    "execution": {
     "iopub.execute_input": "2025-02-22T00:05:18.685654Z",
     "iopub.status.busy": "2025-02-22T00:05:18.685357Z",
     "iopub.status.idle": "2025-02-22T00:05:18.926649Z",
     "shell.execute_reply": "2025-02-22T00:05:18.925772Z"
    },
    "papermill": {
     "duration": 0.248222,
     "end_time": "2025-02-22T00:05:18.927987",
     "exception": false,
     "start_time": "2025-02-22T00:05:18.679765",
     "status": "completed"
    },
    "tags": []
   },
   "outputs": [
    {
     "data": {
      "text/html": [
       "<div>\n",
       "<style scoped>\n",
       "    .dataframe tbody tr th:only-of-type {\n",
       "        vertical-align: middle;\n",
       "    }\n",
       "\n",
       "    .dataframe tbody tr th {\n",
       "        vertical-align: top;\n",
       "    }\n",
       "\n",
       "    .dataframe thead th {\n",
       "        text-align: right;\n",
       "    }\n",
       "</style>\n",
       "<table border=\"1\" class=\"dataframe\">\n",
       "  <thead>\n",
       "    <tr style=\"text-align: right;\">\n",
       "      <th></th>\n",
       "      <th>features</th>\n",
       "      <th>label</th>\n",
       "    </tr>\n",
       "  </thead>\n",
       "  <tbody>\n",
       "    <tr>\n",
       "      <th>0</th>\n",
       "      <td>[[-16.787331661121932, -29.65461956713005, -35...</td>\n",
       "      <td>W</td>\n",
       "    </tr>\n",
       "    <tr>\n",
       "      <th>1</th>\n",
       "      <td>[[-87.70960221690167, -30.33420625694373, -34....</td>\n",
       "      <td>W</td>\n",
       "    </tr>\n",
       "    <tr>\n",
       "      <th>2</th>\n",
       "      <td>[[-61.13355054611345, -30.644801909392143, -34...</td>\n",
       "      <td>W</td>\n",
       "    </tr>\n",
       "    <tr>\n",
       "      <th>3</th>\n",
       "      <td>[[-38.19160502993879, -29.97652578795709, -34....</td>\n",
       "      <td>W</td>\n",
       "    </tr>\n",
       "    <tr>\n",
       "      <th>4</th>\n",
       "      <td>[[38.93285066688821, -30.78044170358605, -34.5...</td>\n",
       "      <td>W</td>\n",
       "    </tr>\n",
       "    <tr>\n",
       "      <th>...</th>\n",
       "      <td>...</td>\n",
       "      <td>...</td>\n",
       "    </tr>\n",
       "    <tr>\n",
       "      <th>66468</th>\n",
       "      <td>[[122.12527938638864, -16.480066280328437, -36...</td>\n",
       "      <td>W</td>\n",
       "    </tr>\n",
       "    <tr>\n",
       "      <th>66469</th>\n",
       "      <td>[[-69.19549169088637, -18.686316932516377, -36...</td>\n",
       "      <td>W</td>\n",
       "    </tr>\n",
       "    <tr>\n",
       "      <th>66470</th>\n",
       "      <td>[[-17.473833641543482, -13.796254236720072, -3...</td>\n",
       "      <td>W</td>\n",
       "    </tr>\n",
       "    <tr>\n",
       "      <th>66471</th>\n",
       "      <td>[[112.57196061426691, -28.73897913614809, -29....</td>\n",
       "      <td>W</td>\n",
       "    </tr>\n",
       "    <tr>\n",
       "      <th>66472</th>\n",
       "      <td>[[-47.78504419307758, -26.694787496276145, -35...</td>\n",
       "      <td>W</td>\n",
       "    </tr>\n",
       "  </tbody>\n",
       "</table>\n",
       "<p>66473 rows × 2 columns</p>\n",
       "</div>"
      ],
      "text/plain": [
       "                                                features label\n",
       "0      [[-16.787331661121932, -29.65461956713005, -35...     W\n",
       "1      [[-87.70960221690167, -30.33420625694373, -34....     W\n",
       "2      [[-61.13355054611345, -30.644801909392143, -34...     W\n",
       "3      [[-38.19160502993879, -29.97652578795709, -34....     W\n",
       "4      [[38.93285066688821, -30.78044170358605, -34.5...     W\n",
       "...                                                  ...   ...\n",
       "66468  [[122.12527938638864, -16.480066280328437, -36...     W\n",
       "66469  [[-69.19549169088637, -18.686316932516377, -36...     W\n",
       "66470  [[-17.473833641543482, -13.796254236720072, -3...     W\n",
       "66471  [[112.57196061426691, -28.73897913614809, -29....     W\n",
       "66472  [[-47.78504419307758, -26.694787496276145, -35...     W\n",
       "\n",
       "[66473 rows x 2 columns]"
      ]
     },
     "execution_count": 9,
     "metadata": {},
     "output_type": "execute_result"
    }
   ],
   "source": [
    "train_data"
   ]
  },
  {
   "cell_type": "code",
   "execution_count": 10,
   "id": "a7c9d7fe",
   "metadata": {
    "execution": {
     "iopub.execute_input": "2025-02-22T00:05:18.939448Z",
     "iopub.status.busy": "2025-02-22T00:05:18.939213Z",
     "iopub.status.idle": "2025-02-22T00:05:22.537430Z",
     "shell.execute_reply": "2025-02-22T00:05:22.536676Z"
    },
    "papermill": {
     "duration": 3.605755,
     "end_time": "2025-02-22T00:05:22.539181",
     "exception": false,
     "start_time": "2025-02-22T00:05:18.933426",
     "status": "completed"
    },
    "tags": []
   },
   "outputs": [],
   "source": [
    "\n",
    "scaler = StandardScaler()\n",
    "\n",
    "# Reshape X_train for scaling (samples * timesteps * features) -> (samples * features* timesteps)\n",
    "X_train_reshaped = X_train.reshape(-1, X_train.shape[2] * X_train.shape[1])\n",
    "X_train_scaled = scaler.fit_transform(X_train_reshaped)\n",
    "X_train_scaled = X_train_scaled.reshape(-1, X_train.shape[1], X_train.shape[2]) # back to original shape\n",
    "\n",
    "X_test_reshaped = X_test.reshape(-1, X_test.shape[2] * X_test.shape[1])\n",
    "X_test_scaled = scaler.transform(X_test_reshaped)  # Use the same scaler fitted on training data\n",
    "X_test_scaled = X_test_scaled.reshape(-1, X_test.shape[1], X_test.shape[2])\n",
    "\n",
    "num_classes = len(np.unique(y_train))\n",
    "y_train = keras.utils.to_categorical(y_train, num_classes=num_classes)\n",
    "y_test = keras.utils.to_categorical(y_test, num_classes=num_classes)\n",
    "\n",
    "\n"
   ]
  },
  {
   "cell_type": "code",
   "execution_count": 11,
   "id": "14f22c0e",
   "metadata": {
    "execution": {
     "iopub.execute_input": "2025-02-22T00:05:22.553341Z",
     "iopub.status.busy": "2025-02-22T00:05:22.553077Z",
     "iopub.status.idle": "2025-02-22T00:05:25.160373Z",
     "shell.execute_reply": "2025-02-22T00:05:25.159626Z"
    },
    "papermill": {
     "duration": 2.616053,
     "end_time": "2025-02-22T00:05:25.161679",
     "exception": false,
     "start_time": "2025-02-22T00:05:22.545626",
     "status": "completed"
    },
    "tags": []
   },
   "outputs": [
    {
     "data": {
      "text/html": [
       "<pre style=\"white-space:pre;overflow-x:auto;line-height:normal;font-family:Menlo,'DejaVu Sans Mono',consolas,'Courier New',monospace\"><span style=\"font-weight: bold\">Model: \"functional\"</span>\n",
       "</pre>\n"
      ],
      "text/plain": [
       "\u001b[1mModel: \"functional\"\u001b[0m\n"
      ]
     },
     "metadata": {},
     "output_type": "display_data"
    },
    {
     "data": {
      "text/html": [
       "<pre style=\"white-space:pre;overflow-x:auto;line-height:normal;font-family:Menlo,'DejaVu Sans Mono',consolas,'Courier New',monospace\">┏━━━━━━━━━━━━━━━━━━━━━━━━━━━┳━━━━━━━━━━━━━━━━━━━━━━━━┳━━━━━━━━━━━━━━━━┳━━━━━━━━━━━━━━━━━━━━━━━━┓\n",
       "┃<span style=\"font-weight: bold\"> Layer (type)              </span>┃<span style=\"font-weight: bold\"> Output Shape           </span>┃<span style=\"font-weight: bold\">        Param # </span>┃<span style=\"font-weight: bold\"> Connected to           </span>┃\n",
       "┡━━━━━━━━━━━━━━━━━━━━━━━━━━━╇━━━━━━━━━━━━━━━━━━━━━━━━╇━━━━━━━━━━━━━━━━╇━━━━━━━━━━━━━━━━━━━━━━━━┩\n",
       "│ input_layer (<span style=\"color: #0087ff; text-decoration-color: #0087ff\">InputLayer</span>)  │ (<span style=\"color: #00d7ff; text-decoration-color: #00d7ff\">None</span>, <span style=\"color: #00af00; text-decoration-color: #00af00\">480</span>, <span style=\"color: #00af00; text-decoration-color: #00af00\">8</span>)         │              <span style=\"color: #00af00; text-decoration-color: #00af00\">0</span> │ -                      │\n",
       "├───────────────────────────┼────────────────────────┼────────────────┼────────────────────────┤\n",
       "│ bidirectional             │ (<span style=\"color: #00d7ff; text-decoration-color: #00d7ff\">None</span>, <span style=\"color: #00af00; text-decoration-color: #00af00\">480</span>, <span style=\"color: #00af00; text-decoration-color: #00af00\">256</span>)       │        <span style=\"color: #00af00; text-decoration-color: #00af00\">140,288</span> │ input_layer[<span style=\"color: #00af00; text-decoration-color: #00af00\">0</span>][<span style=\"color: #00af00; text-decoration-color: #00af00\">0</span>]      │\n",
       "│ (<span style=\"color: #0087ff; text-decoration-color: #0087ff\">Bidirectional</span>)           │                        │                │                        │\n",
       "├───────────────────────────┼────────────────────────┼────────────────┼────────────────────────┤\n",
       "│ batch_normalization       │ (<span style=\"color: #00d7ff; text-decoration-color: #00d7ff\">None</span>, <span style=\"color: #00af00; text-decoration-color: #00af00\">480</span>, <span style=\"color: #00af00; text-decoration-color: #00af00\">256</span>)       │          <span style=\"color: #00af00; text-decoration-color: #00af00\">1,024</span> │ bidirectional[<span style=\"color: #00af00; text-decoration-color: #00af00\">0</span>][<span style=\"color: #00af00; text-decoration-color: #00af00\">0</span>]    │\n",
       "│ (<span style=\"color: #0087ff; text-decoration-color: #0087ff\">BatchNormalization</span>)      │                        │                │                        │\n",
       "├───────────────────────────┼────────────────────────┼────────────────┼────────────────────────┤\n",
       "│ dropout (<span style=\"color: #0087ff; text-decoration-color: #0087ff\">Dropout</span>)         │ (<span style=\"color: #00d7ff; text-decoration-color: #00d7ff\">None</span>, <span style=\"color: #00af00; text-decoration-color: #00af00\">480</span>, <span style=\"color: #00af00; text-decoration-color: #00af00\">256</span>)       │              <span style=\"color: #00af00; text-decoration-color: #00af00\">0</span> │ batch_normalization[<span style=\"color: #00af00; text-decoration-color: #00af00\">0</span>… │\n",
       "├───────────────────────────┼────────────────────────┼────────────────┼────────────────────────┤\n",
       "│ bidirectional_1           │ (<span style=\"color: #00d7ff; text-decoration-color: #00d7ff\">None</span>, <span style=\"color: #00af00; text-decoration-color: #00af00\">480</span>, <span style=\"color: #00af00; text-decoration-color: #00af00\">512</span>)       │      <span style=\"color: #00af00; text-decoration-color: #00af00\">1,050,624</span> │ dropout[<span style=\"color: #00af00; text-decoration-color: #00af00\">0</span>][<span style=\"color: #00af00; text-decoration-color: #00af00\">0</span>]          │\n",
       "│ (<span style=\"color: #0087ff; text-decoration-color: #0087ff\">Bidirectional</span>)           │                        │                │                        │\n",
       "├───────────────────────────┼────────────────────────┼────────────────┼────────────────────────┤\n",
       "│ batch_normalization_1     │ (<span style=\"color: #00d7ff; text-decoration-color: #00d7ff\">None</span>, <span style=\"color: #00af00; text-decoration-color: #00af00\">480</span>, <span style=\"color: #00af00; text-decoration-color: #00af00\">512</span>)       │          <span style=\"color: #00af00; text-decoration-color: #00af00\">2,048</span> │ bidirectional_1[<span style=\"color: #00af00; text-decoration-color: #00af00\">0</span>][<span style=\"color: #00af00; text-decoration-color: #00af00\">0</span>]  │\n",
       "│ (<span style=\"color: #0087ff; text-decoration-color: #0087ff\">BatchNormalization</span>)      │                        │                │                        │\n",
       "├───────────────────────────┼────────────────────────┼────────────────┼────────────────────────┤\n",
       "│ dropout_1 (<span style=\"color: #0087ff; text-decoration-color: #0087ff\">Dropout</span>)       │ (<span style=\"color: #00d7ff; text-decoration-color: #00d7ff\">None</span>, <span style=\"color: #00af00; text-decoration-color: #00af00\">480</span>, <span style=\"color: #00af00; text-decoration-color: #00af00\">512</span>)       │              <span style=\"color: #00af00; text-decoration-color: #00af00\">0</span> │ batch_normalization_1… │\n",
       "├───────────────────────────┼────────────────────────┼────────────────┼────────────────────────┤\n",
       "│ multi_head_attention      │ (<span style=\"color: #00d7ff; text-decoration-color: #00d7ff\">None</span>, <span style=\"color: #00af00; text-decoration-color: #00af00\">480</span>, <span style=\"color: #00af00; text-decoration-color: #00af00\">512</span>)       │        <span style=\"color: #00af00; text-decoration-color: #00af00\">525,568</span> │ dropout_1[<span style=\"color: #00af00; text-decoration-color: #00af00\">0</span>][<span style=\"color: #00af00; text-decoration-color: #00af00\">0</span>],       │\n",
       "│ (<span style=\"color: #0087ff; text-decoration-color: #0087ff\">MultiHeadAttention</span>)      │                        │                │ dropout_1[<span style=\"color: #00af00; text-decoration-color: #00af00\">0</span>][<span style=\"color: #00af00; text-decoration-color: #00af00\">0</span>]        │\n",
       "├───────────────────────────┼────────────────────────┼────────────────┼────────────────────────┤\n",
       "│ add (<span style=\"color: #0087ff; text-decoration-color: #0087ff\">Add</span>)                 │ (<span style=\"color: #00d7ff; text-decoration-color: #00d7ff\">None</span>, <span style=\"color: #00af00; text-decoration-color: #00af00\">480</span>, <span style=\"color: #00af00; text-decoration-color: #00af00\">512</span>)       │              <span style=\"color: #00af00; text-decoration-color: #00af00\">0</span> │ dropout_1[<span style=\"color: #00af00; text-decoration-color: #00af00\">0</span>][<span style=\"color: #00af00; text-decoration-color: #00af00\">0</span>],       │\n",
       "│                           │                        │                │ multi_head_attention[<span style=\"color: #00af00; text-decoration-color: #00af00\">…</span> │\n",
       "├───────────────────────────┼────────────────────────┼────────────────┼────────────────────────┤\n",
       "│ layer_normalization       │ (<span style=\"color: #00d7ff; text-decoration-color: #00d7ff\">None</span>, <span style=\"color: #00af00; text-decoration-color: #00af00\">480</span>, <span style=\"color: #00af00; text-decoration-color: #00af00\">512</span>)       │          <span style=\"color: #00af00; text-decoration-color: #00af00\">1,024</span> │ add[<span style=\"color: #00af00; text-decoration-color: #00af00\">0</span>][<span style=\"color: #00af00; text-decoration-color: #00af00\">0</span>]              │\n",
       "│ (<span style=\"color: #0087ff; text-decoration-color: #0087ff\">LayerNormalization</span>)      │                        │                │                        │\n",
       "├───────────────────────────┼────────────────────────┼────────────────┼────────────────────────┤\n",
       "│ bidirectional_2           │ (<span style=\"color: #00d7ff; text-decoration-color: #00d7ff\">None</span>, <span style=\"color: #00af00; text-decoration-color: #00af00\">256</span>)            │        <span style=\"color: #00af00; text-decoration-color: #00af00\">656,384</span> │ layer_normalization[<span style=\"color: #00af00; text-decoration-color: #00af00\">0</span>… │\n",
       "│ (<span style=\"color: #0087ff; text-decoration-color: #0087ff\">Bidirectional</span>)           │                        │                │                        │\n",
       "├───────────────────────────┼────────────────────────┼────────────────┼────────────────────────┤\n",
       "│ batch_normalization_2     │ (<span style=\"color: #00d7ff; text-decoration-color: #00d7ff\">None</span>, <span style=\"color: #00af00; text-decoration-color: #00af00\">256</span>)            │          <span style=\"color: #00af00; text-decoration-color: #00af00\">1,024</span> │ bidirectional_2[<span style=\"color: #00af00; text-decoration-color: #00af00\">0</span>][<span style=\"color: #00af00; text-decoration-color: #00af00\">0</span>]  │\n",
       "│ (<span style=\"color: #0087ff; text-decoration-color: #0087ff\">BatchNormalization</span>)      │                        │                │                        │\n",
       "├───────────────────────────┼────────────────────────┼────────────────┼────────────────────────┤\n",
       "│ dropout_3 (<span style=\"color: #0087ff; text-decoration-color: #0087ff\">Dropout</span>)       │ (<span style=\"color: #00d7ff; text-decoration-color: #00d7ff\">None</span>, <span style=\"color: #00af00; text-decoration-color: #00af00\">256</span>)            │              <span style=\"color: #00af00; text-decoration-color: #00af00\">0</span> │ batch_normalization_2… │\n",
       "├───────────────────────────┼────────────────────────┼────────────────┼────────────────────────┤\n",
       "│ dense (<span style=\"color: #0087ff; text-decoration-color: #0087ff\">Dense</span>)             │ (<span style=\"color: #00d7ff; text-decoration-color: #00d7ff\">None</span>, <span style=\"color: #00af00; text-decoration-color: #00af00\">256</span>)            │         <span style=\"color: #00af00; text-decoration-color: #00af00\">65,792</span> │ dropout_3[<span style=\"color: #00af00; text-decoration-color: #00af00\">0</span>][<span style=\"color: #00af00; text-decoration-color: #00af00\">0</span>]        │\n",
       "├───────────────────────────┼────────────────────────┼────────────────┼────────────────────────┤\n",
       "│ dropout_4 (<span style=\"color: #0087ff; text-decoration-color: #0087ff\">Dropout</span>)       │ (<span style=\"color: #00d7ff; text-decoration-color: #00d7ff\">None</span>, <span style=\"color: #00af00; text-decoration-color: #00af00\">256</span>)            │              <span style=\"color: #00af00; text-decoration-color: #00af00\">0</span> │ dense[<span style=\"color: #00af00; text-decoration-color: #00af00\">0</span>][<span style=\"color: #00af00; text-decoration-color: #00af00\">0</span>]            │\n",
       "├───────────────────────────┼────────────────────────┼────────────────┼────────────────────────┤\n",
       "│ dense_1 (<span style=\"color: #0087ff; text-decoration-color: #0087ff\">Dense</span>)           │ (<span style=\"color: #00d7ff; text-decoration-color: #00d7ff\">None</span>, <span style=\"color: #00af00; text-decoration-color: #00af00\">3</span>)              │            <span style=\"color: #00af00; text-decoration-color: #00af00\">771</span> │ dropout_4[<span style=\"color: #00af00; text-decoration-color: #00af00\">0</span>][<span style=\"color: #00af00; text-decoration-color: #00af00\">0</span>]        │\n",
       "└───────────────────────────┴────────────────────────┴────────────────┴────────────────────────┘\n",
       "</pre>\n"
      ],
      "text/plain": [
       "┏━━━━━━━━━━━━━━━━━━━━━━━━━━━┳━━━━━━━━━━━━━━━━━━━━━━━━┳━━━━━━━━━━━━━━━━┳━━━━━━━━━━━━━━━━━━━━━━━━┓\n",
       "┃\u001b[1m \u001b[0m\u001b[1mLayer (type)             \u001b[0m\u001b[1m \u001b[0m┃\u001b[1m \u001b[0m\u001b[1mOutput Shape          \u001b[0m\u001b[1m \u001b[0m┃\u001b[1m \u001b[0m\u001b[1m       Param #\u001b[0m\u001b[1m \u001b[0m┃\u001b[1m \u001b[0m\u001b[1mConnected to          \u001b[0m\u001b[1m \u001b[0m┃\n",
       "┡━━━━━━━━━━━━━━━━━━━━━━━━━━━╇━━━━━━━━━━━━━━━━━━━━━━━━╇━━━━━━━━━━━━━━━━╇━━━━━━━━━━━━━━━━━━━━━━━━┩\n",
       "│ input_layer (\u001b[38;5;33mInputLayer\u001b[0m)  │ (\u001b[38;5;45mNone\u001b[0m, \u001b[38;5;34m480\u001b[0m, \u001b[38;5;34m8\u001b[0m)         │              \u001b[38;5;34m0\u001b[0m │ -                      │\n",
       "├───────────────────────────┼────────────────────────┼────────────────┼────────────────────────┤\n",
       "│ bidirectional             │ (\u001b[38;5;45mNone\u001b[0m, \u001b[38;5;34m480\u001b[0m, \u001b[38;5;34m256\u001b[0m)       │        \u001b[38;5;34m140,288\u001b[0m │ input_layer[\u001b[38;5;34m0\u001b[0m][\u001b[38;5;34m0\u001b[0m]      │\n",
       "│ (\u001b[38;5;33mBidirectional\u001b[0m)           │                        │                │                        │\n",
       "├───────────────────────────┼────────────────────────┼────────────────┼────────────────────────┤\n",
       "│ batch_normalization       │ (\u001b[38;5;45mNone\u001b[0m, \u001b[38;5;34m480\u001b[0m, \u001b[38;5;34m256\u001b[0m)       │          \u001b[38;5;34m1,024\u001b[0m │ bidirectional[\u001b[38;5;34m0\u001b[0m][\u001b[38;5;34m0\u001b[0m]    │\n",
       "│ (\u001b[38;5;33mBatchNormalization\u001b[0m)      │                        │                │                        │\n",
       "├───────────────────────────┼────────────────────────┼────────────────┼────────────────────────┤\n",
       "│ dropout (\u001b[38;5;33mDropout\u001b[0m)         │ (\u001b[38;5;45mNone\u001b[0m, \u001b[38;5;34m480\u001b[0m, \u001b[38;5;34m256\u001b[0m)       │              \u001b[38;5;34m0\u001b[0m │ batch_normalization[\u001b[38;5;34m0\u001b[0m… │\n",
       "├───────────────────────────┼────────────────────────┼────────────────┼────────────────────────┤\n",
       "│ bidirectional_1           │ (\u001b[38;5;45mNone\u001b[0m, \u001b[38;5;34m480\u001b[0m, \u001b[38;5;34m512\u001b[0m)       │      \u001b[38;5;34m1,050,624\u001b[0m │ dropout[\u001b[38;5;34m0\u001b[0m][\u001b[38;5;34m0\u001b[0m]          │\n",
       "│ (\u001b[38;5;33mBidirectional\u001b[0m)           │                        │                │                        │\n",
       "├───────────────────────────┼────────────────────────┼────────────────┼────────────────────────┤\n",
       "│ batch_normalization_1     │ (\u001b[38;5;45mNone\u001b[0m, \u001b[38;5;34m480\u001b[0m, \u001b[38;5;34m512\u001b[0m)       │          \u001b[38;5;34m2,048\u001b[0m │ bidirectional_1[\u001b[38;5;34m0\u001b[0m][\u001b[38;5;34m0\u001b[0m]  │\n",
       "│ (\u001b[38;5;33mBatchNormalization\u001b[0m)      │                        │                │                        │\n",
       "├───────────────────────────┼────────────────────────┼────────────────┼────────────────────────┤\n",
       "│ dropout_1 (\u001b[38;5;33mDropout\u001b[0m)       │ (\u001b[38;5;45mNone\u001b[0m, \u001b[38;5;34m480\u001b[0m, \u001b[38;5;34m512\u001b[0m)       │              \u001b[38;5;34m0\u001b[0m │ batch_normalization_1… │\n",
       "├───────────────────────────┼────────────────────────┼────────────────┼────────────────────────┤\n",
       "│ multi_head_attention      │ (\u001b[38;5;45mNone\u001b[0m, \u001b[38;5;34m480\u001b[0m, \u001b[38;5;34m512\u001b[0m)       │        \u001b[38;5;34m525,568\u001b[0m │ dropout_1[\u001b[38;5;34m0\u001b[0m][\u001b[38;5;34m0\u001b[0m],       │\n",
       "│ (\u001b[38;5;33mMultiHeadAttention\u001b[0m)      │                        │                │ dropout_1[\u001b[38;5;34m0\u001b[0m][\u001b[38;5;34m0\u001b[0m]        │\n",
       "├───────────────────────────┼────────────────────────┼────────────────┼────────────────────────┤\n",
       "│ add (\u001b[38;5;33mAdd\u001b[0m)                 │ (\u001b[38;5;45mNone\u001b[0m, \u001b[38;5;34m480\u001b[0m, \u001b[38;5;34m512\u001b[0m)       │              \u001b[38;5;34m0\u001b[0m │ dropout_1[\u001b[38;5;34m0\u001b[0m][\u001b[38;5;34m0\u001b[0m],       │\n",
       "│                           │                        │                │ multi_head_attention[\u001b[38;5;34m…\u001b[0m │\n",
       "├───────────────────────────┼────────────────────────┼────────────────┼────────────────────────┤\n",
       "│ layer_normalization       │ (\u001b[38;5;45mNone\u001b[0m, \u001b[38;5;34m480\u001b[0m, \u001b[38;5;34m512\u001b[0m)       │          \u001b[38;5;34m1,024\u001b[0m │ add[\u001b[38;5;34m0\u001b[0m][\u001b[38;5;34m0\u001b[0m]              │\n",
       "│ (\u001b[38;5;33mLayerNormalization\u001b[0m)      │                        │                │                        │\n",
       "├───────────────────────────┼────────────────────────┼────────────────┼────────────────────────┤\n",
       "│ bidirectional_2           │ (\u001b[38;5;45mNone\u001b[0m, \u001b[38;5;34m256\u001b[0m)            │        \u001b[38;5;34m656,384\u001b[0m │ layer_normalization[\u001b[38;5;34m0\u001b[0m… │\n",
       "│ (\u001b[38;5;33mBidirectional\u001b[0m)           │                        │                │                        │\n",
       "├───────────────────────────┼────────────────────────┼────────────────┼────────────────────────┤\n",
       "│ batch_normalization_2     │ (\u001b[38;5;45mNone\u001b[0m, \u001b[38;5;34m256\u001b[0m)            │          \u001b[38;5;34m1,024\u001b[0m │ bidirectional_2[\u001b[38;5;34m0\u001b[0m][\u001b[38;5;34m0\u001b[0m]  │\n",
       "│ (\u001b[38;5;33mBatchNormalization\u001b[0m)      │                        │                │                        │\n",
       "├───────────────────────────┼────────────────────────┼────────────────┼────────────────────────┤\n",
       "│ dropout_3 (\u001b[38;5;33mDropout\u001b[0m)       │ (\u001b[38;5;45mNone\u001b[0m, \u001b[38;5;34m256\u001b[0m)            │              \u001b[38;5;34m0\u001b[0m │ batch_normalization_2… │\n",
       "├───────────────────────────┼────────────────────────┼────────────────┼────────────────────────┤\n",
       "│ dense (\u001b[38;5;33mDense\u001b[0m)             │ (\u001b[38;5;45mNone\u001b[0m, \u001b[38;5;34m256\u001b[0m)            │         \u001b[38;5;34m65,792\u001b[0m │ dropout_3[\u001b[38;5;34m0\u001b[0m][\u001b[38;5;34m0\u001b[0m]        │\n",
       "├───────────────────────────┼────────────────────────┼────────────────┼────────────────────────┤\n",
       "│ dropout_4 (\u001b[38;5;33mDropout\u001b[0m)       │ (\u001b[38;5;45mNone\u001b[0m, \u001b[38;5;34m256\u001b[0m)            │              \u001b[38;5;34m0\u001b[0m │ dense[\u001b[38;5;34m0\u001b[0m][\u001b[38;5;34m0\u001b[0m]            │\n",
       "├───────────────────────────┼────────────────────────┼────────────────┼────────────────────────┤\n",
       "│ dense_1 (\u001b[38;5;33mDense\u001b[0m)           │ (\u001b[38;5;45mNone\u001b[0m, \u001b[38;5;34m3\u001b[0m)              │            \u001b[38;5;34m771\u001b[0m │ dropout_4[\u001b[38;5;34m0\u001b[0m][\u001b[38;5;34m0\u001b[0m]        │\n",
       "└───────────────────────────┴────────────────────────┴────────────────┴────────────────────────┘\n"
      ]
     },
     "metadata": {},
     "output_type": "display_data"
    },
    {
     "data": {
      "text/html": [
       "<pre style=\"white-space:pre;overflow-x:auto;line-height:normal;font-family:Menlo,'DejaVu Sans Mono',consolas,'Courier New',monospace\"><span style=\"font-weight: bold\"> Total params: </span><span style=\"color: #00af00; text-decoration-color: #00af00\">2,444,547</span> (9.33 MB)\n",
       "</pre>\n"
      ],
      "text/plain": [
       "\u001b[1m Total params: \u001b[0m\u001b[38;5;34m2,444,547\u001b[0m (9.33 MB)\n"
      ]
     },
     "metadata": {},
     "output_type": "display_data"
    },
    {
     "data": {
      "text/html": [
       "<pre style=\"white-space:pre;overflow-x:auto;line-height:normal;font-family:Menlo,'DejaVu Sans Mono',consolas,'Courier New',monospace\"><span style=\"font-weight: bold\"> Trainable params: </span><span style=\"color: #00af00; text-decoration-color: #00af00\">2,442,499</span> (9.32 MB)\n",
       "</pre>\n"
      ],
      "text/plain": [
       "\u001b[1m Trainable params: \u001b[0m\u001b[38;5;34m2,442,499\u001b[0m (9.32 MB)\n"
      ]
     },
     "metadata": {},
     "output_type": "display_data"
    },
    {
     "data": {
      "text/html": [
       "<pre style=\"white-space:pre;overflow-x:auto;line-height:normal;font-family:Menlo,'DejaVu Sans Mono',consolas,'Courier New',monospace\"><span style=\"font-weight: bold\"> Non-trainable params: </span><span style=\"color: #00af00; text-decoration-color: #00af00\">2,048</span> (8.00 KB)\n",
       "</pre>\n"
      ],
      "text/plain": [
       "\u001b[1m Non-trainable params: \u001b[0m\u001b[38;5;34m2,048\u001b[0m (8.00 KB)\n"
      ]
     },
     "metadata": {},
     "output_type": "display_data"
    }
   ],
   "source": [
    "import tensorflow as tf\n",
    "from tensorflow import keras\n",
    "from tensorflow.keras import layers, regularizers\n",
    "\n",
    "def attention_block(inputs):\n",
    "    \"\"\"Self-Attention for LSTM\"\"\"\n",
    "    attention = layers.MultiHeadAttention(num_heads=4, key_dim=64)(inputs, inputs)\n",
    "    attention = layers.Add()([inputs, attention])  # Residual Connection\n",
    "    return layers.LayerNormalization()(attention)\n",
    "\n",
    "input_layer = keras.Input(shape=(X_train.shape[1], X_train.shape[2]))\n",
    "\n",
    "# BiLSTM Layers\n",
    "x = layers.Bidirectional(layers.LSTM(128, return_sequences=True, kernel_regularizer=regularizers.l2(0.001)))(input_layer)\n",
    "x = layers.BatchNormalization()(x)\n",
    "x = layers.Dropout(0.3)(x)\n",
    "\n",
    "x = layers.Bidirectional(layers.LSTM(256, return_sequences=True, kernel_regularizer=regularizers.l2(0.001)))(x)\n",
    "x = layers.BatchNormalization()(x)\n",
    "x = layers.Dropout(0.3)(x)\n",
    "\n",
    "# Attention Layer\n",
    "x = attention_block(x)\n",
    "\n",
    "# Final LSTM Layer before output\n",
    "x = layers.Bidirectional(layers.LSTM(128, return_sequences=False, kernel_regularizer=regularizers.l2(0.001)))(x)\n",
    "x = layers.BatchNormalization()(x)\n",
    "x = layers.Dropout(0.5)(x)\n",
    "\n",
    "# Fully Connected Layer\n",
    "x = layers.Dense(256, activation=\"relu\")(x)\n",
    "x = layers.Dropout(0.3)(x)\n",
    "\n",
    "output_layer = layers.Dense(num_classes, activation=\"softmax\")(x)\n",
    "\n",
    "model = keras.Model(inputs=input_layer, outputs=output_layer)\n",
    "\n",
    "# Optimizer: AdamW + Cosine Decay\n",
    "initial_lr = 0.001\n",
    "lr_schedule = keras.optimizers.schedules.CosineDecay(\n",
    "    initial_learning_rate=initial_lr, decay_steps=10000\n",
    ")\n",
    "optimizer = keras.optimizers.AdamW(learning_rate=lr_schedule, weight_decay=1e-4)\n",
    "\n",
    "model.compile(\n",
    "    optimizer=optimizer,\n",
    "    loss=\"categorical_crossentropy\",\n",
    "    metrics=[\"accuracy\"]\n",
    ")\n",
    "\n",
    "model.summary()\n"
   ]
  },
  {
   "cell_type": "code",
   "execution_count": 12,
   "id": "a29a320a",
   "metadata": {
    "execution": {
     "iopub.execute_input": "2025-02-22T00:05:25.175100Z",
     "iopub.status.busy": "2025-02-22T00:05:25.174854Z",
     "iopub.status.idle": "2025-02-22T07:17:52.521940Z",
     "shell.execute_reply": "2025-02-22T07:17:52.520854Z"
    },
    "papermill": {
     "duration": 25949.931991,
     "end_time": "2025-02-22T07:17:55.100279",
     "exception": false,
     "start_time": "2025-02-22T00:05:25.168288",
     "status": "completed"
    },
    "tags": []
   },
   "outputs": [
    {
     "name": "stdout",
     "output_type": "stream",
     "text": [
      "Epoch 1/100\n",
      "\u001b[1m539/539\u001b[0m \u001b[32m━━━━━━━━━━━━━━━━━━━━\u001b[0m\u001b[37m\u001b[0m \u001b[1m266s\u001b[0m 471ms/step - accuracy: 0.5874 - loss: 2.5744 - val_accuracy: 0.6652 - val_loss: 1.5144\n",
      "Epoch 2/100\n",
      "\u001b[1m539/539\u001b[0m \u001b[32m━━━━━━━━━━━━━━━━━━━━\u001b[0m\u001b[37m\u001b[0m \u001b[1m260s\u001b[0m 482ms/step - accuracy: 0.6519 - loss: 1.4000 - val_accuracy: 0.6239 - val_loss: 1.1826\n",
      "Epoch 3/100\n",
      "\u001b[1m539/539\u001b[0m \u001b[32m━━━━━━━━━━━━━━━━━━━━\u001b[0m\u001b[37m\u001b[0m \u001b[1m260s\u001b[0m 482ms/step - accuracy: 0.6697 - loss: 1.0774 - val_accuracy: 0.6816 - val_loss: 0.9867\n",
      "Epoch 4/100\n",
      "\u001b[1m539/539\u001b[0m \u001b[32m━━━━━━━━━━━━━━━━━━━━\u001b[0m\u001b[37m\u001b[0m \u001b[1m259s\u001b[0m 480ms/step - accuracy: 0.6674 - loss: 1.0133 - val_accuracy: 0.6656 - val_loss: 0.9893\n",
      "Epoch 5/100\n",
      "\u001b[1m539/539\u001b[0m \u001b[32m━━━━━━━━━━━━━━━━━━━━\u001b[0m\u001b[37m\u001b[0m \u001b[1m259s\u001b[0m 480ms/step - accuracy: 0.6757 - loss: 0.9519 - val_accuracy: 0.6869 - val_loss: 0.8862\n",
      "Epoch 6/100\n",
      "\u001b[1m539/539\u001b[0m \u001b[32m━━━━━━━━━━━━━━━━━━━━\u001b[0m\u001b[37m\u001b[0m \u001b[1m259s\u001b[0m 481ms/step - accuracy: 0.6739 - loss: 0.9082 - val_accuracy: 0.6799 - val_loss: 0.8905\n",
      "Epoch 7/100\n",
      "\u001b[1m539/539\u001b[0m \u001b[32m━━━━━━━━━━━━━━━━━━━━\u001b[0m\u001b[37m\u001b[0m \u001b[1m259s\u001b[0m 481ms/step - accuracy: 0.6673 - loss: 0.9316 - val_accuracy: 0.5477 - val_loss: 1.1510\n",
      "Epoch 8/100\n",
      "\u001b[1m539/539\u001b[0m \u001b[32m━━━━━━━━━━━━━━━━━━━━\u001b[0m\u001b[37m\u001b[0m \u001b[1m260s\u001b[0m 483ms/step - accuracy: 0.6609 - loss: 1.1313 - val_accuracy: 0.6692 - val_loss: 1.1363\n",
      "Epoch 9/100\n",
      "\u001b[1m539/539\u001b[0m \u001b[32m━━━━━━━━━━━━━━━━━━━━\u001b[0m\u001b[37m\u001b[0m \u001b[1m260s\u001b[0m 482ms/step - accuracy: 0.6699 - loss: 1.1428 - val_accuracy: 0.6913 - val_loss: 1.0764\n",
      "Epoch 10/100\n",
      "\u001b[1m539/539\u001b[0m \u001b[32m━━━━━━━━━━━━━━━━━━━━\u001b[0m\u001b[37m\u001b[0m \u001b[1m260s\u001b[0m 482ms/step - accuracy: 0.6725 - loss: 1.0937 - val_accuracy: 0.6906 - val_loss: 1.0505\n",
      "Epoch 11/100\n",
      "\u001b[1m539/539\u001b[0m \u001b[32m━━━━━━━━━━━━━━━━━━━━\u001b[0m\u001b[37m\u001b[0m \u001b[1m260s\u001b[0m 482ms/step - accuracy: 0.6733 - loss: 1.0681 - val_accuracy: 0.6804 - val_loss: 1.0164\n",
      "Epoch 12/100\n",
      "\u001b[1m539/539\u001b[0m \u001b[32m━━━━━━━━━━━━━━━━━━━━\u001b[0m\u001b[37m\u001b[0m \u001b[1m260s\u001b[0m 482ms/step - accuracy: 0.6740 - loss: 1.0371 - val_accuracy: 0.6961 - val_loss: 0.9821\n",
      "Epoch 13/100\n",
      "\u001b[1m539/539\u001b[0m \u001b[32m━━━━━━━━━━━━━━━━━━━━\u001b[0m\u001b[37m\u001b[0m \u001b[1m260s\u001b[0m 482ms/step - accuracy: 0.6860 - loss: 0.9931 - val_accuracy: 0.7053 - val_loss: 0.9455\n",
      "Epoch 14/100\n",
      "\u001b[1m539/539\u001b[0m \u001b[32m━━━━━━━━━━━━━━━━━━━━\u001b[0m\u001b[37m\u001b[0m \u001b[1m260s\u001b[0m 482ms/step - accuracy: 0.6853 - loss: 0.9656 - val_accuracy: 0.7027 - val_loss: 0.9281\n",
      "Epoch 15/100\n",
      "\u001b[1m539/539\u001b[0m \u001b[32m━━━━━━━━━━━━━━━━━━━━\u001b[0m\u001b[37m\u001b[0m \u001b[1m260s\u001b[0m 482ms/step - accuracy: 0.6874 - loss: 0.9527 - val_accuracy: 0.7070 - val_loss: 0.9026\n",
      "Epoch 16/100\n",
      "\u001b[1m539/539\u001b[0m \u001b[32m━━━━━━━━━━━━━━━━━━━━\u001b[0m\u001b[37m\u001b[0m \u001b[1m260s\u001b[0m 482ms/step - accuracy: 0.6912 - loss: 0.9301 - val_accuracy: 0.7085 - val_loss: 0.8910\n",
      "Epoch 17/100\n",
      "\u001b[1m539/539\u001b[0m \u001b[32m━━━━━━━━━━━━━━━━━━━━\u001b[0m\u001b[37m\u001b[0m \u001b[1m260s\u001b[0m 483ms/step - accuracy: 0.6907 - loss: 0.9186 - val_accuracy: 0.7122 - val_loss: 0.8749\n",
      "Epoch 18/100\n",
      "\u001b[1m539/539\u001b[0m \u001b[32m━━━━━━━━━━━━━━━━━━━━\u001b[0m\u001b[37m\u001b[0m \u001b[1m260s\u001b[0m 483ms/step - accuracy: 0.6929 - loss: 0.9105 - val_accuracy: 0.7107 - val_loss: 0.8710\n",
      "Epoch 19/100\n",
      "\u001b[1m539/539\u001b[0m \u001b[32m━━━━━━━━━━━━━━━━━━━━\u001b[0m\u001b[37m\u001b[0m \u001b[1m260s\u001b[0m 482ms/step - accuracy: 0.7006 - loss: 0.8998 - val_accuracy: 0.7105 - val_loss: 0.8705\n",
      "Epoch 20/100\n",
      "\u001b[1m539/539\u001b[0m \u001b[32m━━━━━━━━━━━━━━━━━━━━\u001b[0m\u001b[37m\u001b[0m \u001b[1m259s\u001b[0m 481ms/step - accuracy: 0.6948 - loss: 0.9056 - val_accuracy: 0.7102 - val_loss: 0.8706\n",
      "Epoch 21/100\n",
      "\u001b[1m539/539\u001b[0m \u001b[32m━━━━━━━━━━━━━━━━━━━━\u001b[0m\u001b[37m\u001b[0m \u001b[1m260s\u001b[0m 483ms/step - accuracy: 0.6980 - loss: 0.8992 - val_accuracy: 0.7119 - val_loss: 0.8711\n",
      "Epoch 22/100\n",
      "\u001b[1m539/539\u001b[0m \u001b[32m━━━━━━━━━━━━━━━━━━━━\u001b[0m\u001b[37m\u001b[0m \u001b[1m260s\u001b[0m 482ms/step - accuracy: 0.6956 - loss: 0.9035 - val_accuracy: 0.7105 - val_loss: 0.8708\n",
      "Epoch 23/100\n",
      "\u001b[1m539/539\u001b[0m \u001b[32m━━━━━━━━━━━━━━━━━━━━\u001b[0m\u001b[37m\u001b[0m \u001b[1m259s\u001b[0m 481ms/step - accuracy: 0.6963 - loss: 0.9029 - val_accuracy: 0.7113 - val_loss: 0.8703\n",
      "Epoch 24/100\n",
      "\u001b[1m539/539\u001b[0m \u001b[32m━━━━━━━━━━━━━━━━━━━━\u001b[0m\u001b[37m\u001b[0m \u001b[1m260s\u001b[0m 483ms/step - accuracy: 0.6986 - loss: 0.8989 - val_accuracy: 0.7112 - val_loss: 0.8704\n",
      "Epoch 25/100\n",
      "\u001b[1m539/539\u001b[0m \u001b[32m━━━━━━━━━━━━━━━━━━━━\u001b[0m\u001b[37m\u001b[0m \u001b[1m260s\u001b[0m 482ms/step - accuracy: 0.6982 - loss: 0.9003 - val_accuracy: 0.7112 - val_loss: 0.8702\n",
      "Epoch 26/100\n",
      "\u001b[1m539/539\u001b[0m \u001b[32m━━━━━━━━━━━━━━━━━━━━\u001b[0m\u001b[37m\u001b[0m \u001b[1m260s\u001b[0m 482ms/step - accuracy: 0.6962 - loss: 0.9053 - val_accuracy: 0.7108 - val_loss: 0.8707\n",
      "Epoch 27/100\n",
      "\u001b[1m539/539\u001b[0m \u001b[32m━━━━━━━━━━━━━━━━━━━━\u001b[0m\u001b[37m\u001b[0m \u001b[1m260s\u001b[0m 483ms/step - accuracy: 0.6972 - loss: 0.9005 - val_accuracy: 0.7105 - val_loss: 0.8709\n",
      "Epoch 28/100\n",
      "\u001b[1m539/539\u001b[0m \u001b[32m━━━━━━━━━━━━━━━━━━━━\u001b[0m\u001b[37m\u001b[0m \u001b[1m260s\u001b[0m 482ms/step - accuracy: 0.6982 - loss: 0.9022 - val_accuracy: 0.7105 - val_loss: 0.8705\n",
      "Epoch 29/100\n",
      "\u001b[1m539/539\u001b[0m \u001b[32m━━━━━━━━━━━━━━━━━━━━\u001b[0m\u001b[37m\u001b[0m \u001b[1m260s\u001b[0m 481ms/step - accuracy: 0.6988 - loss: 0.9011 - val_accuracy: 0.7102 - val_loss: 0.8703\n",
      "Epoch 30/100\n",
      "\u001b[1m539/539\u001b[0m \u001b[32m━━━━━━━━━━━━━━━━━━━━\u001b[0m\u001b[37m\u001b[0m \u001b[1m260s\u001b[0m 482ms/step - accuracy: 0.6983 - loss: 0.9021 - val_accuracy: 0.7108 - val_loss: 0.8709\n",
      "Epoch 31/100\n",
      "\u001b[1m539/539\u001b[0m \u001b[32m━━━━━━━━━━━━━━━━━━━━\u001b[0m\u001b[37m\u001b[0m \u001b[1m259s\u001b[0m 481ms/step - accuracy: 0.6966 - loss: 0.9020 - val_accuracy: 0.7102 - val_loss: 0.8703\n",
      "Epoch 32/100\n",
      "\u001b[1m539/539\u001b[0m \u001b[32m━━━━━━━━━━━━━━━━━━━━\u001b[0m\u001b[37m\u001b[0m \u001b[1m260s\u001b[0m 482ms/step - accuracy: 0.6983 - loss: 0.9029 - val_accuracy: 0.7102 - val_loss: 0.8703\n",
      "Epoch 33/100\n",
      "\u001b[1m539/539\u001b[0m \u001b[32m━━━━━━━━━━━━━━━━━━━━\u001b[0m\u001b[37m\u001b[0m \u001b[1m259s\u001b[0m 481ms/step - accuracy: 0.6983 - loss: 0.9000 - val_accuracy: 0.7108 - val_loss: 0.8704\n",
      "Epoch 34/100\n",
      "\u001b[1m539/539\u001b[0m \u001b[32m━━━━━━━━━━━━━━━━━━━━\u001b[0m\u001b[37m\u001b[0m \u001b[1m260s\u001b[0m 482ms/step - accuracy: 0.6960 - loss: 0.9063 - val_accuracy: 0.7108 - val_loss: 0.8708\n",
      "Epoch 35/100\n",
      "\u001b[1m539/539\u001b[0m \u001b[32m━━━━━━━━━━━━━━━━━━━━\u001b[0m\u001b[37m\u001b[0m \u001b[1m259s\u001b[0m 480ms/step - accuracy: 0.6961 - loss: 0.9024 - val_accuracy: 0.7107 - val_loss: 0.8704\n",
      "Epoch 36/100\n",
      "\u001b[1m539/539\u001b[0m \u001b[32m━━━━━━━━━━━━━━━━━━━━\u001b[0m\u001b[37m\u001b[0m \u001b[1m259s\u001b[0m 481ms/step - accuracy: 0.6962 - loss: 0.9067 - val_accuracy: 0.7108 - val_loss: 0.8703\n",
      "Epoch 37/100\n",
      "\u001b[1m539/539\u001b[0m \u001b[32m━━━━━━━━━━━━━━━━━━━━\u001b[0m\u001b[37m\u001b[0m \u001b[1m260s\u001b[0m 482ms/step - accuracy: 0.6949 - loss: 0.9074 - val_accuracy: 0.7107 - val_loss: 0.8706\n",
      "Epoch 38/100\n",
      "\u001b[1m539/539\u001b[0m \u001b[32m━━━━━━━━━━━━━━━━━━━━\u001b[0m\u001b[37m\u001b[0m \u001b[1m259s\u001b[0m 481ms/step - accuracy: 0.7017 - loss: 0.8968 - val_accuracy: 0.7108 - val_loss: 0.8705\n",
      "Epoch 39/100\n",
      "\u001b[1m539/539\u001b[0m \u001b[32m━━━━━━━━━━━━━━━━━━━━\u001b[0m\u001b[37m\u001b[0m \u001b[1m260s\u001b[0m 482ms/step - accuracy: 0.6962 - loss: 0.9046 - val_accuracy: 0.7117 - val_loss: 0.8707\n",
      "Epoch 40/100\n",
      "\u001b[1m539/539\u001b[0m \u001b[32m━━━━━━━━━━━━━━━━━━━━\u001b[0m\u001b[37m\u001b[0m \u001b[1m260s\u001b[0m 482ms/step - accuracy: 0.6955 - loss: 0.9056 - val_accuracy: 0.7110 - val_loss: 0.8710\n",
      "Epoch 41/100\n",
      "\u001b[1m539/539\u001b[0m \u001b[32m━━━━━━━━━━━━━━━━━━━━\u001b[0m\u001b[37m\u001b[0m \u001b[1m260s\u001b[0m 483ms/step - accuracy: 0.6976 - loss: 0.9025 - val_accuracy: 0.7107 - val_loss: 0.8702\n",
      "Epoch 42/100\n",
      "\u001b[1m539/539\u001b[0m \u001b[32m━━━━━━━━━━━━━━━━━━━━\u001b[0m\u001b[37m\u001b[0m \u001b[1m260s\u001b[0m 482ms/step - accuracy: 0.6962 - loss: 0.9032 - val_accuracy: 0.7105 - val_loss: 0.8711\n",
      "Epoch 43/100\n",
      "\u001b[1m539/539\u001b[0m \u001b[32m━━━━━━━━━━━━━━━━━━━━\u001b[0m\u001b[37m\u001b[0m \u001b[1m260s\u001b[0m 482ms/step - accuracy: 0.6963 - loss: 0.9068 - val_accuracy: 0.7110 - val_loss: 0.8705\n",
      "Epoch 44/100\n",
      "\u001b[1m539/539\u001b[0m \u001b[32m━━━━━━━━━━━━━━━━━━━━\u001b[0m\u001b[37m\u001b[0m \u001b[1m260s\u001b[0m 482ms/step - accuracy: 0.6953 - loss: 0.9068 - val_accuracy: 0.7107 - val_loss: 0.8703\n",
      "Epoch 45/100\n",
      "\u001b[1m539/539\u001b[0m \u001b[32m━━━━━━━━━━━━━━━━━━━━\u001b[0m\u001b[37m\u001b[0m \u001b[1m260s\u001b[0m 483ms/step - accuracy: 0.6954 - loss: 0.9022 - val_accuracy: 0.7112 - val_loss: 0.8706\n",
      "Epoch 46/100\n",
      "\u001b[1m539/539\u001b[0m \u001b[32m━━━━━━━━━━━━━━━━━━━━\u001b[0m\u001b[37m\u001b[0m \u001b[1m260s\u001b[0m 482ms/step - accuracy: 0.6961 - loss: 0.9045 - val_accuracy: 0.7112 - val_loss: 0.8701\n",
      "Epoch 47/100\n",
      "\u001b[1m539/539\u001b[0m \u001b[32m━━━━━━━━━━━━━━━━━━━━\u001b[0m\u001b[37m\u001b[0m \u001b[1m260s\u001b[0m 483ms/step - accuracy: 0.7005 - loss: 0.9000 - val_accuracy: 0.7108 - val_loss: 0.8706\n",
      "Epoch 48/100\n",
      "\u001b[1m539/539\u001b[0m \u001b[32m━━━━━━━━━━━━━━━━━━━━\u001b[0m\u001b[37m\u001b[0m \u001b[1m260s\u001b[0m 483ms/step - accuracy: 0.6963 - loss: 0.9043 - val_accuracy: 0.7110 - val_loss: 0.8704\n",
      "Epoch 49/100\n",
      "\u001b[1m539/539\u001b[0m \u001b[32m━━━━━━━━━━━━━━━━━━━━\u001b[0m\u001b[37m\u001b[0m \u001b[1m259s\u001b[0m 480ms/step - accuracy: 0.6941 - loss: 0.9056 - val_accuracy: 0.7115 - val_loss: 0.8710\n",
      "Epoch 50/100\n",
      "\u001b[1m539/539\u001b[0m \u001b[32m━━━━━━━━━━━━━━━━━━━━\u001b[0m\u001b[37m\u001b[0m \u001b[1m260s\u001b[0m 481ms/step - accuracy: 0.6981 - loss: 0.9011 - val_accuracy: 0.7105 - val_loss: 0.8707\n",
      "Epoch 51/100\n",
      "\u001b[1m539/539\u001b[0m \u001b[32m━━━━━━━━━━━━━━━━━━━━\u001b[0m\u001b[37m\u001b[0m \u001b[1m259s\u001b[0m 480ms/step - accuracy: 0.6965 - loss: 0.9035 - val_accuracy: 0.7112 - val_loss: 0.8707\n",
      "Epoch 52/100\n",
      "\u001b[1m539/539\u001b[0m \u001b[32m━━━━━━━━━━━━━━━━━━━━\u001b[0m\u001b[37m\u001b[0m \u001b[1m259s\u001b[0m 481ms/step - accuracy: 0.6977 - loss: 0.9048 - val_accuracy: 0.7110 - val_loss: 0.8709\n",
      "Epoch 53/100\n",
      "\u001b[1m539/539\u001b[0m \u001b[32m━━━━━━━━━━━━━━━━━━━━\u001b[0m\u001b[37m\u001b[0m \u001b[1m259s\u001b[0m 480ms/step - accuracy: 0.6970 - loss: 0.9036 - val_accuracy: 0.7112 - val_loss: 0.8702\n",
      "Epoch 54/100\n",
      "\u001b[1m539/539\u001b[0m \u001b[32m━━━━━━━━━━━━━━━━━━━━\u001b[0m\u001b[37m\u001b[0m \u001b[1m259s\u001b[0m 481ms/step - accuracy: 0.6971 - loss: 0.9029 - val_accuracy: 0.7110 - val_loss: 0.8710\n",
      "Epoch 55/100\n",
      "\u001b[1m539/539\u001b[0m \u001b[32m━━━━━━━━━━━━━━━━━━━━\u001b[0m\u001b[37m\u001b[0m \u001b[1m259s\u001b[0m 481ms/step - accuracy: 0.6964 - loss: 0.9037 - val_accuracy: 0.7107 - val_loss: 0.8707\n",
      "Epoch 56/100\n",
      "\u001b[1m539/539\u001b[0m \u001b[32m━━━━━━━━━━━━━━━━━━━━\u001b[0m\u001b[37m\u001b[0m \u001b[1m259s\u001b[0m 481ms/step - accuracy: 0.7002 - loss: 0.8975 - val_accuracy: 0.7108 - val_loss: 0.8708\n",
      "Epoch 57/100\n",
      "\u001b[1m539/539\u001b[0m \u001b[32m━━━━━━━━━━━━━━━━━━━━\u001b[0m\u001b[37m\u001b[0m \u001b[1m259s\u001b[0m 481ms/step - accuracy: 0.6973 - loss: 0.9029 - val_accuracy: 0.7107 - val_loss: 0.8705\n",
      "Epoch 58/100\n",
      "\u001b[1m539/539\u001b[0m \u001b[32m━━━━━━━━━━━━━━━━━━━━\u001b[0m\u001b[37m\u001b[0m \u001b[1m259s\u001b[0m 480ms/step - accuracy: 0.6977 - loss: 0.9025 - val_accuracy: 0.7105 - val_loss: 0.8707\n",
      "Epoch 59/100\n",
      "\u001b[1m539/539\u001b[0m \u001b[32m━━━━━━━━━━━━━━━━━━━━\u001b[0m\u001b[37m\u001b[0m \u001b[1m259s\u001b[0m 480ms/step - accuracy: 0.6970 - loss: 0.9069 - val_accuracy: 0.7105 - val_loss: 0.8715\n",
      "Epoch 60/100\n",
      "\u001b[1m539/539\u001b[0m \u001b[32m━━━━━━━━━━━━━━━━━━━━\u001b[0m\u001b[37m\u001b[0m \u001b[1m259s\u001b[0m 480ms/step - accuracy: 0.6965 - loss: 0.9074 - val_accuracy: 0.7108 - val_loss: 0.8706\n",
      "Epoch 61/100\n",
      "\u001b[1m539/539\u001b[0m \u001b[32m━━━━━━━━━━━━━━━━━━━━\u001b[0m\u001b[37m\u001b[0m \u001b[1m259s\u001b[0m 481ms/step - accuracy: 0.6934 - loss: 0.9075 - val_accuracy: 0.7108 - val_loss: 0.8706\n",
      "Epoch 62/100\n",
      "\u001b[1m539/539\u001b[0m \u001b[32m━━━━━━━━━━━━━━━━━━━━\u001b[0m\u001b[37m\u001b[0m \u001b[1m259s\u001b[0m 481ms/step - accuracy: 0.6950 - loss: 0.9008 - val_accuracy: 0.7107 - val_loss: 0.8708\n",
      "Epoch 63/100\n",
      "\u001b[1m539/539\u001b[0m \u001b[32m━━━━━━━━━━━━━━━━━━━━\u001b[0m\u001b[37m\u001b[0m \u001b[1m259s\u001b[0m 481ms/step - accuracy: 0.6982 - loss: 0.9021 - val_accuracy: 0.7108 - val_loss: 0.8702\n",
      "Epoch 64/100\n",
      "\u001b[1m539/539\u001b[0m \u001b[32m━━━━━━━━━━━━━━━━━━━━\u001b[0m\u001b[37m\u001b[0m \u001b[1m259s\u001b[0m 481ms/step - accuracy: 0.7004 - loss: 0.8990 - val_accuracy: 0.7110 - val_loss: 0.8711\n",
      "Epoch 65/100\n",
      "\u001b[1m539/539\u001b[0m \u001b[32m━━━━━━━━━━━━━━━━━━━━\u001b[0m\u001b[37m\u001b[0m \u001b[1m259s\u001b[0m 480ms/step - accuracy: 0.6951 - loss: 0.9069 - val_accuracy: 0.7107 - val_loss: 0.8707\n",
      "Epoch 66/100\n",
      "\u001b[1m539/539\u001b[0m \u001b[32m━━━━━━━━━━━━━━━━━━━━\u001b[0m\u001b[37m\u001b[0m \u001b[1m259s\u001b[0m 480ms/step - accuracy: 0.6968 - loss: 0.9038 - val_accuracy: 0.7110 - val_loss: 0.8707\n",
      "Epoch 67/100\n",
      "\u001b[1m539/539\u001b[0m \u001b[32m━━━━━━━━━━━━━━━━━━━━\u001b[0m\u001b[37m\u001b[0m \u001b[1m259s\u001b[0m 481ms/step - accuracy: 0.6983 - loss: 0.9024 - val_accuracy: 0.7115 - val_loss: 0.8704\n",
      "Epoch 68/100\n",
      "\u001b[1m539/539\u001b[0m \u001b[32m━━━━━━━━━━━━━━━━━━━━\u001b[0m\u001b[37m\u001b[0m \u001b[1m259s\u001b[0m 481ms/step - accuracy: 0.7003 - loss: 0.8975 - val_accuracy: 0.7105 - val_loss: 0.8709\n",
      "Epoch 69/100\n",
      "\u001b[1m539/539\u001b[0m \u001b[32m━━━━━━━━━━━━━━━━━━━━\u001b[0m\u001b[37m\u001b[0m \u001b[1m259s\u001b[0m 481ms/step - accuracy: 0.6994 - loss: 0.9029 - val_accuracy: 0.7107 - val_loss: 0.8710\n",
      "Epoch 70/100\n",
      "\u001b[1m539/539\u001b[0m \u001b[32m━━━━━━━━━━━━━━━━━━━━\u001b[0m\u001b[37m\u001b[0m \u001b[1m259s\u001b[0m 481ms/step - accuracy: 0.6970 - loss: 0.9013 - val_accuracy: 0.7112 - val_loss: 0.8705\n",
      "Epoch 71/100\n",
      "\u001b[1m539/539\u001b[0m \u001b[32m━━━━━━━━━━━━━━━━━━━━\u001b[0m\u001b[37m\u001b[0m \u001b[1m259s\u001b[0m 481ms/step - accuracy: 0.6975 - loss: 0.9007 - val_accuracy: 0.7103 - val_loss: 0.8703\n",
      "Epoch 72/100\n",
      "\u001b[1m539/539\u001b[0m \u001b[32m━━━━━━━━━━━━━━━━━━━━\u001b[0m\u001b[37m\u001b[0m \u001b[1m259s\u001b[0m 481ms/step - accuracy: 0.6974 - loss: 0.9009 - val_accuracy: 0.7108 - val_loss: 0.8709\n",
      "Epoch 73/100\n",
      "\u001b[1m539/539\u001b[0m \u001b[32m━━━━━━━━━━━━━━━━━━━━\u001b[0m\u001b[37m\u001b[0m \u001b[1m259s\u001b[0m 481ms/step - accuracy: 0.6963 - loss: 0.9038 - val_accuracy: 0.7107 - val_loss: 0.8709\n",
      "Epoch 74/100\n",
      "\u001b[1m539/539\u001b[0m \u001b[32m━━━━━━━━━━━━━━━━━━━━\u001b[0m\u001b[37m\u001b[0m \u001b[1m259s\u001b[0m 481ms/step - accuracy: 0.6976 - loss: 0.9019 - val_accuracy: 0.7107 - val_loss: 0.8707\n",
      "Epoch 75/100\n",
      "\u001b[1m539/539\u001b[0m \u001b[32m━━━━━━━━━━━━━━━━━━━━\u001b[0m\u001b[37m\u001b[0m \u001b[1m259s\u001b[0m 481ms/step - accuracy: 0.6954 - loss: 0.9027 - val_accuracy: 0.7110 - val_loss: 0.8708\n",
      "Epoch 76/100\n",
      "\u001b[1m539/539\u001b[0m \u001b[32m━━━━━━━━━━━━━━━━━━━━\u001b[0m\u001b[37m\u001b[0m \u001b[1m259s\u001b[0m 481ms/step - accuracy: 0.6997 - loss: 0.9011 - val_accuracy: 0.7107 - val_loss: 0.8709\n",
      "Epoch 77/100\n",
      "\u001b[1m539/539\u001b[0m \u001b[32m━━━━━━━━━━━━━━━━━━━━\u001b[0m\u001b[37m\u001b[0m \u001b[1m259s\u001b[0m 481ms/step - accuracy: 0.6998 - loss: 0.8965 - val_accuracy: 0.7110 - val_loss: 0.8706\n",
      "Epoch 78/100\n",
      "\u001b[1m539/539\u001b[0m \u001b[32m━━━━━━━━━━━━━━━━━━━━\u001b[0m\u001b[37m\u001b[0m \u001b[1m259s\u001b[0m 481ms/step - accuracy: 0.6972 - loss: 0.9042 - val_accuracy: 0.7107 - val_loss: 0.8703\n",
      "Epoch 79/100\n",
      "\u001b[1m539/539\u001b[0m \u001b[32m━━━━━━━━━━━━━━━━━━━━\u001b[0m\u001b[37m\u001b[0m \u001b[1m259s\u001b[0m 481ms/step - accuracy: 0.6992 - loss: 0.9003 - val_accuracy: 0.7108 - val_loss: 0.8705\n",
      "Epoch 80/100\n",
      "\u001b[1m539/539\u001b[0m \u001b[32m━━━━━━━━━━━━━━━━━━━━\u001b[0m\u001b[37m\u001b[0m \u001b[1m259s\u001b[0m 481ms/step - accuracy: 0.6962 - loss: 0.9064 - val_accuracy: 0.7100 - val_loss: 0.8706\n",
      "Epoch 81/100\n",
      "\u001b[1m539/539\u001b[0m \u001b[32m━━━━━━━━━━━━━━━━━━━━\u001b[0m\u001b[37m\u001b[0m \u001b[1m259s\u001b[0m 480ms/step - accuracy: 0.6964 - loss: 0.9042 - val_accuracy: 0.7103 - val_loss: 0.8709\n",
      "Epoch 82/100\n",
      "\u001b[1m539/539\u001b[0m \u001b[32m━━━━━━━━━━━━━━━━━━━━\u001b[0m\u001b[37m\u001b[0m \u001b[1m259s\u001b[0m 481ms/step - accuracy: 0.6978 - loss: 0.9024 - val_accuracy: 0.7115 - val_loss: 0.8708\n",
      "Epoch 83/100\n",
      "\u001b[1m539/539\u001b[0m \u001b[32m━━━━━━━━━━━━━━━━━━━━\u001b[0m\u001b[37m\u001b[0m \u001b[1m259s\u001b[0m 481ms/step - accuracy: 0.6968 - loss: 0.9033 - val_accuracy: 0.7105 - val_loss: 0.8704\n",
      "Epoch 84/100\n",
      "\u001b[1m539/539\u001b[0m \u001b[32m━━━━━━━━━━━━━━━━━━━━\u001b[0m\u001b[37m\u001b[0m \u001b[1m259s\u001b[0m 481ms/step - accuracy: 0.6969 - loss: 0.9010 - val_accuracy: 0.7113 - val_loss: 0.8708\n",
      "Epoch 85/100\n",
      "\u001b[1m539/539\u001b[0m \u001b[32m━━━━━━━━━━━━━━━━━━━━\u001b[0m\u001b[37m\u001b[0m \u001b[1m259s\u001b[0m 481ms/step - accuracy: 0.6989 - loss: 0.8981 - val_accuracy: 0.7113 - val_loss: 0.8710\n",
      "Epoch 86/100\n",
      "\u001b[1m539/539\u001b[0m \u001b[32m━━━━━━━━━━━━━━━━━━━━\u001b[0m\u001b[37m\u001b[0m \u001b[1m259s\u001b[0m 480ms/step - accuracy: 0.6971 - loss: 0.9031 - val_accuracy: 0.7105 - val_loss: 0.8705\n",
      "Epoch 87/100\n",
      "\u001b[1m539/539\u001b[0m \u001b[32m━━━━━━━━━━━━━━━━━━━━\u001b[0m\u001b[37m\u001b[0m \u001b[1m259s\u001b[0m 481ms/step - accuracy: 0.6967 - loss: 0.9012 - val_accuracy: 0.7107 - val_loss: 0.8704\n",
      "Epoch 88/100\n",
      "\u001b[1m539/539\u001b[0m \u001b[32m━━━━━━━━━━━━━━━━━━━━\u001b[0m\u001b[37m\u001b[0m \u001b[1m259s\u001b[0m 481ms/step - accuracy: 0.6958 - loss: 0.9024 - val_accuracy: 0.7102 - val_loss: 0.8704\n",
      "Epoch 89/100\n",
      "\u001b[1m539/539\u001b[0m \u001b[32m━━━━━━━━━━━━━━━━━━━━\u001b[0m\u001b[37m\u001b[0m \u001b[1m259s\u001b[0m 480ms/step - accuracy: 0.6980 - loss: 0.9031 - val_accuracy: 0.7107 - val_loss: 0.8708\n",
      "Epoch 90/100\n",
      "\u001b[1m539/539\u001b[0m \u001b[32m━━━━━━━━━━━━━━━━━━━━\u001b[0m\u001b[37m\u001b[0m \u001b[1m259s\u001b[0m 480ms/step - accuracy: 0.6964 - loss: 0.9038 - val_accuracy: 0.7108 - val_loss: 0.8705\n",
      "Epoch 91/100\n",
      "\u001b[1m539/539\u001b[0m \u001b[32m━━━━━━━━━━━━━━━━━━━━\u001b[0m\u001b[37m\u001b[0m \u001b[1m259s\u001b[0m 481ms/step - accuracy: 0.6991 - loss: 0.8999 - val_accuracy: 0.7103 - val_loss: 0.8705\n",
      "Epoch 92/100\n",
      "\u001b[1m539/539\u001b[0m \u001b[32m━━━━━━━━━━━━━━━━━━━━\u001b[0m\u001b[37m\u001b[0m \u001b[1m259s\u001b[0m 481ms/step - accuracy: 0.6965 - loss: 0.9028 - val_accuracy: 0.7113 - val_loss: 0.8707\n",
      "Epoch 93/100\n",
      "\u001b[1m539/539\u001b[0m \u001b[32m━━━━━━━━━━━━━━━━━━━━\u001b[0m\u001b[37m\u001b[0m \u001b[1m259s\u001b[0m 481ms/step - accuracy: 0.6961 - loss: 0.9023 - val_accuracy: 0.7110 - val_loss: 0.8707\n",
      "Epoch 94/100\n",
      "\u001b[1m539/539\u001b[0m \u001b[32m━━━━━━━━━━━━━━━━━━━━\u001b[0m\u001b[37m\u001b[0m \u001b[1m259s\u001b[0m 481ms/step - accuracy: 0.6978 - loss: 0.9027 - val_accuracy: 0.7103 - val_loss: 0.8703\n",
      "Epoch 95/100\n",
      "\u001b[1m539/539\u001b[0m \u001b[32m━━━━━━━━━━━━━━━━━━━━\u001b[0m\u001b[37m\u001b[0m \u001b[1m259s\u001b[0m 481ms/step - accuracy: 0.7012 - loss: 0.9006 - val_accuracy: 0.7112 - val_loss: 0.8710\n",
      "Epoch 96/100\n",
      "\u001b[1m539/539\u001b[0m \u001b[32m━━━━━━━━━━━━━━━━━━━━\u001b[0m\u001b[37m\u001b[0m \u001b[1m259s\u001b[0m 481ms/step - accuracy: 0.6970 - loss: 0.9018 - val_accuracy: 0.7107 - val_loss: 0.8705\n",
      "Epoch 97/100\n",
      "\u001b[1m539/539\u001b[0m \u001b[32m━━━━━━━━━━━━━━━━━━━━\u001b[0m\u001b[37m\u001b[0m \u001b[1m259s\u001b[0m 481ms/step - accuracy: 0.7001 - loss: 0.8979 - val_accuracy: 0.7113 - val_loss: 0.8710\n",
      "Epoch 98/100\n",
      "\u001b[1m539/539\u001b[0m \u001b[32m━━━━━━━━━━━━━━━━━━━━\u001b[0m\u001b[37m\u001b[0m \u001b[1m259s\u001b[0m 481ms/step - accuracy: 0.6966 - loss: 0.9013 - val_accuracy: 0.7108 - val_loss: 0.8705\n",
      "Epoch 99/100\n",
      "\u001b[1m539/539\u001b[0m \u001b[32m━━━━━━━━━━━━━━━━━━━━\u001b[0m\u001b[37m\u001b[0m \u001b[1m259s\u001b[0m 481ms/step - accuracy: 0.6975 - loss: 0.9038 - val_accuracy: 0.7105 - val_loss: 0.8708\n",
      "Epoch 100/100\n",
      "\u001b[1m539/539\u001b[0m \u001b[32m━━━━━━━━━━━━━━━━━━━━\u001b[0m\u001b[37m\u001b[0m \u001b[1m259s\u001b[0m 481ms/step - accuracy: 0.7002 - loss: 0.8986 - val_accuracy: 0.7107 - val_loss: 0.8705\n"
     ]
    }
   ],
   "source": [
    "# 4. Train the Model\n",
    "epochs = 100\n",
    "batch_size = 100\n",
    "\n",
    "history = model.fit(X_train_scaled, y_train, batch_size=batch_size, epochs=epochs, validation_split=0.1)\n",
    "\n"
   ]
  },
  {
   "cell_type": "code",
   "execution_count": 13,
   "id": "3349e405",
   "metadata": {
    "execution": {
     "iopub.execute_input": "2025-02-22T07:18:00.835500Z",
     "iopub.status.busy": "2025-02-22T07:18:00.835182Z",
     "iopub.status.idle": "2025-02-22T07:18:32.808350Z",
     "shell.execute_reply": "2025-02-22T07:18:32.807559Z"
    },
    "papermill": {
     "duration": 35.952395,
     "end_time": "2025-02-22T07:18:33.824370",
     "exception": false,
     "start_time": "2025-02-22T07:17:57.871975",
     "status": "completed"
    },
    "tags": []
   },
   "outputs": [
    {
     "name": "stdout",
     "output_type": "stream",
     "text": [
      "Test Loss: 0.8705135583877563\n",
      "Test Accuracy: 0.7107400894165039\n",
      "\u001b[1m208/208\u001b[0m \u001b[32m━━━━━━━━━━━━━━━━━━━━\u001b[0m\u001b[37m\u001b[0m \u001b[1m16s\u001b[0m 75ms/step\n",
      "Confusion Matrix:\n",
      " [[4212    0  214]\n",
      " [ 650    0   15]\n",
      " [1044    0  513]]\n",
      "Classification Report:\n",
      "               precision    recall  f1-score   support\n",
      "\n",
      "           0       0.71      0.95      0.82      4426\n",
      "           1       0.00      0.00      0.00       665\n",
      "           2       0.69      0.33      0.45      1557\n",
      "\n",
      "    accuracy                           0.71      6648\n",
      "   macro avg       0.47      0.43      0.42      6648\n",
      "weighted avg       0.64      0.71      0.65      6648\n",
      "\n"
     ]
    },
    {
     "name": "stderr",
     "output_type": "stream",
     "text": [
      "/usr/local/lib/python3.10/dist-packages/sklearn/metrics/_classification.py:1344: UndefinedMetricWarning: Precision and F-score are ill-defined and being set to 0.0 in labels with no predicted samples. Use `zero_division` parameter to control this behavior.\n",
      "  _warn_prf(average, modifier, msg_start, len(result))\n",
      "/usr/local/lib/python3.10/dist-packages/sklearn/metrics/_classification.py:1344: UndefinedMetricWarning: Precision and F-score are ill-defined and being set to 0.0 in labels with no predicted samples. Use `zero_division` parameter to control this behavior.\n",
      "  _warn_prf(average, modifier, msg_start, len(result))\n",
      "/usr/local/lib/python3.10/dist-packages/sklearn/metrics/_classification.py:1344: UndefinedMetricWarning: Precision and F-score are ill-defined and being set to 0.0 in labels with no predicted samples. Use `zero_division` parameter to control this behavior.\n",
      "  _warn_prf(average, modifier, msg_start, len(result))\n"
     ]
    }
   ],
   "source": [
    "# 5. Evaluate the Model (More detailed evaluation)\n",
    "loss, accuracy = model.evaluate(X_test_scaled, y_test, verbose=0)\n",
    "print(\"Test Loss:\", loss)\n",
    "print(\"Test Accuracy:\", accuracy)\n",
    "\n",
    "y_pred = model.predict(X_test_scaled)\n",
    "y_pred_classes = np.argmax(y_pred, axis=1)  # Get predicted class labels\n",
    "y_true_classes = np.argmax(y_test, axis=1) # Get true class labels\n",
    "\n",
    "conf_matrix = confusion_matrix(y_true_classes, y_pred_classes)\n",
    "print(\"Confusion Matrix:\\n\", conf_matrix)\n",
    "\n",
    "class_report = classification_report(y_true_classes, y_pred_classes)\n",
    "print(\"Classification Report:\\n\", class_report)\n",
    "\n"
   ]
  },
  {
   "cell_type": "code",
   "execution_count": 14,
   "id": "fadd2aee",
   "metadata": {
    "execution": {
     "iopub.execute_input": "2025-02-22T07:18:39.326665Z",
     "iopub.status.busy": "2025-02-22T07:18:39.326313Z",
     "iopub.status.idle": "2025-02-22T07:19:36.153521Z",
     "shell.execute_reply": "2025-02-22T07:19:36.152652Z"
    },
    "papermill": {
     "duration": 62.342124,
     "end_time": "2025-02-22T07:19:38.779128",
     "exception": false,
     "start_time": "2025-02-22T07:18:36.437004",
     "status": "completed"
    },
    "tags": []
   },
   "outputs": [
    {
     "data": {
      "text/html": [
       "<div>\n",
       "<style scoped>\n",
       "    .dataframe tbody tr th:only-of-type {\n",
       "        vertical-align: middle;\n",
       "    }\n",
       "\n",
       "    .dataframe tbody tr th {\n",
       "        vertical-align: top;\n",
       "    }\n",
       "\n",
       "    .dataframe thead th {\n",
       "        text-align: right;\n",
       "    }\n",
       "</style>\n",
       "<table border=\"1\" class=\"dataframe\">\n",
       "  <thead>\n",
       "    <tr style=\"text-align: right;\">\n",
       "      <th></th>\n",
       "      <th>id</th>\n",
       "      <th>features</th>\n",
       "    </tr>\n",
       "  </thead>\n",
       "  <tbody>\n",
       "    <tr>\n",
       "      <th>0</th>\n",
       "      <td>/kaggle/input/io-t-sleep-stage-classification-...</td>\n",
       "      <td>[[-8.26647136847187, 59.31294859734474, -10.87...</td>\n",
       "    </tr>\n",
       "    <tr>\n",
       "      <th>1</th>\n",
       "      <td>/kaggle/input/io-t-sleep-stage-classification-...</td>\n",
       "      <td>[[-33.737309672712634, -32.004096055393184, 38...</td>\n",
       "    </tr>\n",
       "    <tr>\n",
       "      <th>2</th>\n",
       "      <td>/kaggle/input/io-t-sleep-stage-classification-...</td>\n",
       "      <td>[[0.9678524725302452, -47.19056679892199, -22....</td>\n",
       "    </tr>\n",
       "    <tr>\n",
       "      <th>3</th>\n",
       "      <td>/kaggle/input/io-t-sleep-stage-classification-...</td>\n",
       "      <td>[[0.108033853352705, -24.74665457216458, 50.43...</td>\n",
       "    </tr>\n",
       "    <tr>\n",
       "      <th>4</th>\n",
       "      <td>/kaggle/input/io-t-sleep-stage-classification-...</td>\n",
       "      <td>[[40.0336184993943, 58.32472216520449, -16.846...</td>\n",
       "    </tr>\n",
       "    <tr>\n",
       "      <th>...</th>\n",
       "      <td>...</td>\n",
       "      <td>...</td>\n",
       "    </tr>\n",
       "    <tr>\n",
       "      <th>7005</th>\n",
       "      <td>/kaggle/input/io-t-sleep-stage-classification-...</td>\n",
       "      <td>[[10.562214461978355, -42.16635811486883, 2.96...</td>\n",
       "    </tr>\n",
       "    <tr>\n",
       "      <th>7006</th>\n",
       "      <td>/kaggle/input/io-t-sleep-stage-classification-...</td>\n",
       "      <td>[[-8.910720370054893, -40.18434756956151, 2.96...</td>\n",
       "    </tr>\n",
       "    <tr>\n",
       "      <th>7007</th>\n",
       "      <td>/kaggle/input/io-t-sleep-stage-classification-...</td>\n",
       "      <td>[[72.01702354399089, -46.51449536994952, 39.53...</td>\n",
       "    </tr>\n",
       "    <tr>\n",
       "      <th>7008</th>\n",
       "      <td>/kaggle/input/io-t-sleep-stage-classification-...</td>\n",
       "      <td>[[-94.06339813082532, -56.34752639546982, 14.8...</td>\n",
       "    </tr>\n",
       "    <tr>\n",
       "      <th>7009</th>\n",
       "      <td>/kaggle/input/io-t-sleep-stage-classification-...</td>\n",
       "      <td>[[16.50859875389829, -52.35983993943023, 35.58...</td>\n",
       "    </tr>\n",
       "  </tbody>\n",
       "</table>\n",
       "<p>7010 rows × 2 columns</p>\n",
       "</div>"
      ],
      "text/plain": [
       "                                                     id  \\\n",
       "0     /kaggle/input/io-t-sleep-stage-classification-...   \n",
       "1     /kaggle/input/io-t-sleep-stage-classification-...   \n",
       "2     /kaggle/input/io-t-sleep-stage-classification-...   \n",
       "3     /kaggle/input/io-t-sleep-stage-classification-...   \n",
       "4     /kaggle/input/io-t-sleep-stage-classification-...   \n",
       "...                                                 ...   \n",
       "7005  /kaggle/input/io-t-sleep-stage-classification-...   \n",
       "7006  /kaggle/input/io-t-sleep-stage-classification-...   \n",
       "7007  /kaggle/input/io-t-sleep-stage-classification-...   \n",
       "7008  /kaggle/input/io-t-sleep-stage-classification-...   \n",
       "7009  /kaggle/input/io-t-sleep-stage-classification-...   \n",
       "\n",
       "                                               features  \n",
       "0     [[-8.26647136847187, 59.31294859734474, -10.87...  \n",
       "1     [[-33.737309672712634, -32.004096055393184, 38...  \n",
       "2     [[0.9678524725302452, -47.19056679892199, -22....  \n",
       "3     [[0.108033853352705, -24.74665457216458, 50.43...  \n",
       "4     [[40.0336184993943, 58.32472216520449, -16.846...  \n",
       "...                                                 ...  \n",
       "7005  [[10.562214461978355, -42.16635811486883, 2.96...  \n",
       "7006  [[-8.910720370054893, -40.18434756956151, 2.96...  \n",
       "7007  [[72.01702354399089, -46.51449536994952, 39.53...  \n",
       "7008  [[-94.06339813082532, -56.34752639546982, 14.8...  \n",
       "7009  [[16.50859875389829, -52.35983993943023, 35.58...  \n",
       "\n",
       "[7010 rows x 2 columns]"
      ]
     },
     "execution_count": 14,
     "metadata": {},
     "output_type": "execute_result"
    }
   ],
   "source": [
    "test_data = load_and_preprocess_data_test(test_segment_dir)\n",
    "\n",
    "test_data"
   ]
  },
  {
   "cell_type": "code",
   "execution_count": 15,
   "id": "233ebbe2",
   "metadata": {
    "execution": {
     "iopub.execute_input": "2025-02-22T07:19:44.458550Z",
     "iopub.status.busy": "2025-02-22T07:19:44.458261Z",
     "iopub.status.idle": "2025-02-22T07:19:44.945770Z",
     "shell.execute_reply": "2025-02-22T07:19:44.944799Z"
    },
    "papermill": {
     "duration": 3.405658,
     "end_time": "2025-02-22T07:19:44.947456",
     "exception": false,
     "start_time": "2025-02-22T07:19:41.541798",
     "status": "completed"
    },
    "tags": []
   },
   "outputs": [],
   "source": [
    "id_list = test_data.id\n",
    "test_list = np.array(list(test_data['features']))\n",
    "\n",
    "X_pred_reshaped = test_list.reshape(-1, test_list.shape[2] * test_list.shape[1])\n",
    "X_pred_scaled = scaler.fit_transform(X_pred_reshaped)\n",
    "X_pred_scaled = X_pred_scaled.reshape(-1, test_list.shape[1], test_list.shape[2]) # back to original shape\n",
    "\n"
   ]
  },
  {
   "cell_type": "code",
   "execution_count": 16,
   "id": "96bbfaa2",
   "metadata": {
    "execution": {
     "iopub.execute_input": "2025-02-22T07:19:50.318133Z",
     "iopub.status.busy": "2025-02-22T07:19:50.317828Z",
     "iopub.status.idle": "2025-02-22T07:19:50.324087Z",
     "shell.execute_reply": "2025-02-22T07:19:50.323441Z"
    },
    "papermill": {
     "duration": 2.61287,
     "end_time": "2025-02-22T07:19:50.325301",
     "exception": false,
     "start_time": "2025-02-22T07:19:47.712431",
     "status": "completed"
    },
    "tags": []
   },
   "outputs": [],
   "source": [
    "id_list = [x.split('/')[-1] for x in id_list]"
   ]
  },
  {
   "cell_type": "code",
   "execution_count": 17,
   "id": "7672f5a3",
   "metadata": {
    "execution": {
     "iopub.execute_input": "2025-02-22T07:19:55.978320Z",
     "iopub.status.busy": "2025-02-22T07:19:55.977903Z",
     "iopub.status.idle": "2025-02-22T07:20:12.119434Z",
     "shell.execute_reply": "2025-02-22T07:20:12.118737Z"
    },
    "papermill": {
     "duration": 19.024602,
     "end_time": "2025-02-22T07:20:12.120677",
     "exception": false,
     "start_time": "2025-02-22T07:19:53.096075",
     "status": "completed"
    },
    "tags": []
   },
   "outputs": [
    {
     "name": "stdout",
     "output_type": "stream",
     "text": [
      "\u001b[1m220/220\u001b[0m \u001b[32m━━━━━━━━━━━━━━━━━━━━\u001b[0m\u001b[37m\u001b[0m \u001b[1m16s\u001b[0m 71ms/step\n"
     ]
    },
    {
     "data": {
      "text/plain": [
       "array([[0.4964074 , 0.11904844, 0.38454416],\n",
       "       [0.73154116, 0.15144753, 0.11701135],\n",
       "       [0.37417787, 0.10090926, 0.5249129 ],\n",
       "       ...,\n",
       "       [0.2793992 , 0.04588712, 0.6747137 ],\n",
       "       [0.76630855, 0.06252386, 0.17116761],\n",
       "       [0.5366009 , 0.23388173, 0.22951733]], dtype=float32)"
      ]
     },
     "execution_count": 17,
     "metadata": {},
     "output_type": "execute_result"
    }
   ],
   "source": [
    "test_predictions = model.predict(X_pred_scaled)\n",
    "\n",
    "test_predictions"
   ]
  },
  {
   "cell_type": "code",
   "execution_count": 18,
   "id": "4c9dc684",
   "metadata": {
    "execution": {
     "iopub.execute_input": "2025-02-22T07:20:17.481717Z",
     "iopub.status.busy": "2025-02-22T07:20:17.481361Z",
     "iopub.status.idle": "2025-02-22T07:20:17.486527Z",
     "shell.execute_reply": "2025-02-22T07:20:17.485866Z"
    },
    "papermill": {
     "duration": 2.597975,
     "end_time": "2025-02-22T07:20:17.487860",
     "exception": false,
     "start_time": "2025-02-22T07:20:14.889885",
     "status": "completed"
    },
    "tags": []
   },
   "outputs": [
    {
     "data": {
      "text/plain": [
       "array([0, 0, 2, ..., 2, 0, 0])"
      ]
     },
     "execution_count": 18,
     "metadata": {},
     "output_type": "execute_result"
    }
   ],
   "source": [
    "predicted_labels = np.argmax(test_predictions, axis=1)\n",
    "predicted_labels"
   ]
  },
  {
   "cell_type": "code",
   "execution_count": 19,
   "id": "58e6c0d6",
   "metadata": {
    "execution": {
     "iopub.execute_input": "2025-02-22T07:20:23.217117Z",
     "iopub.status.busy": "2025-02-22T07:20:23.216770Z",
     "iopub.status.idle": "2025-02-22T07:20:23.222723Z",
     "shell.execute_reply": "2025-02-22T07:20:23.221780Z"
    },
    "papermill": {
     "duration": 2.993754,
     "end_time": "2025-02-22T07:20:23.224224",
     "exception": false,
     "start_time": "2025-02-22T07:20:20.230470",
     "status": "completed"
    },
    "tags": []
   },
   "outputs": [
    {
     "data": {
      "text/plain": [
       "array(['N', 'N', 'W', ..., 'W', 'N', 'N'], dtype=object)"
      ]
     },
     "execution_count": 19,
     "metadata": {},
     "output_type": "execute_result"
    }
   ],
   "source": [
    "pred = le.inverse_transform(predicted_labels)\n",
    "pred"
   ]
  },
  {
   "cell_type": "code",
   "execution_count": 20,
   "id": "f2af18a7",
   "metadata": {
    "execution": {
     "iopub.execute_input": "2025-02-22T07:20:28.901447Z",
     "iopub.status.busy": "2025-02-22T07:20:28.901059Z",
     "iopub.status.idle": "2025-02-22T07:20:28.906564Z",
     "shell.execute_reply": "2025-02-22T07:20:28.905784Z"
    },
    "papermill": {
     "duration": 3.00489,
     "end_time": "2025-02-22T07:20:28.907962",
     "exception": false,
     "start_time": "2025-02-22T07:20:25.903072",
     "status": "completed"
    },
    "tags": []
   },
   "outputs": [],
   "source": [
    "temp_sub = pd.DataFrame({'id': id_list, 'labels': pred})"
   ]
  },
  {
   "cell_type": "code",
   "execution_count": 21,
   "id": "31399186",
   "metadata": {
    "execution": {
     "iopub.execute_input": "2025-02-22T07:20:34.325320Z",
     "iopub.status.busy": "2025-02-22T07:20:34.325027Z",
     "iopub.status.idle": "2025-02-22T07:20:34.339459Z",
     "shell.execute_reply": "2025-02-22T07:20:34.338776Z"
    },
    "papermill": {
     "duration": 2.628494,
     "end_time": "2025-02-22T07:20:34.340718",
     "exception": false,
     "start_time": "2025-02-22T07:20:31.712224",
     "status": "completed"
    },
    "tags": []
   },
   "outputs": [],
   "source": [
    "samp = pd.read_csv(\"/kaggle/input/io-t-sleep-stage-classification-version-2/sample_submission.csv\")"
   ]
  },
  {
   "cell_type": "code",
   "execution_count": 22,
   "id": "fe41e5d1",
   "metadata": {
    "execution": {
     "iopub.execute_input": "2025-02-22T07:20:39.969041Z",
     "iopub.status.busy": "2025-02-22T07:20:39.968718Z",
     "iopub.status.idle": "2025-02-22T07:20:39.977344Z",
     "shell.execute_reply": "2025-02-22T07:20:39.976651Z"
    },
    "papermill": {
     "duration": 2.903644,
     "end_time": "2025-02-22T07:20:39.978540",
     "exception": false,
     "start_time": "2025-02-22T07:20:37.074896",
     "status": "completed"
    },
    "tags": []
   },
   "outputs": [
    {
     "data": {
      "text/html": [
       "<div>\n",
       "<style scoped>\n",
       "    .dataframe tbody tr th:only-of-type {\n",
       "        vertical-align: middle;\n",
       "    }\n",
       "\n",
       "    .dataframe tbody tr th {\n",
       "        vertical-align: top;\n",
       "    }\n",
       "\n",
       "    .dataframe thead th {\n",
       "        text-align: right;\n",
       "    }\n",
       "</style>\n",
       "<table border=\"1\" class=\"dataframe\">\n",
       "  <thead>\n",
       "    <tr style=\"text-align: right;\">\n",
       "      <th></th>\n",
       "      <th>id</th>\n",
       "      <th>labels</th>\n",
       "    </tr>\n",
       "  </thead>\n",
       "  <tbody>\n",
       "    <tr>\n",
       "      <th>0</th>\n",
       "      <td>test001_00000</td>\n",
       "      <td>W</td>\n",
       "    </tr>\n",
       "    <tr>\n",
       "      <th>1</th>\n",
       "      <td>test001_00001</td>\n",
       "      <td>W</td>\n",
       "    </tr>\n",
       "    <tr>\n",
       "      <th>2</th>\n",
       "      <td>test001_00002</td>\n",
       "      <td>W</td>\n",
       "    </tr>\n",
       "    <tr>\n",
       "      <th>3</th>\n",
       "      <td>test001_00003</td>\n",
       "      <td>NaN</td>\n",
       "    </tr>\n",
       "    <tr>\n",
       "      <th>4</th>\n",
       "      <td>test001_00004</td>\n",
       "      <td>NaN</td>\n",
       "    </tr>\n",
       "    <tr>\n",
       "      <th>...</th>\n",
       "      <td>...</td>\n",
       "      <td>...</td>\n",
       "    </tr>\n",
       "    <tr>\n",
       "      <th>7005</th>\n",
       "      <td>test010_00696</td>\n",
       "      <td>NaN</td>\n",
       "    </tr>\n",
       "    <tr>\n",
       "      <th>7006</th>\n",
       "      <td>test010_00697</td>\n",
       "      <td>NaN</td>\n",
       "    </tr>\n",
       "    <tr>\n",
       "      <th>7007</th>\n",
       "      <td>test010_00698</td>\n",
       "      <td>NaN</td>\n",
       "    </tr>\n",
       "    <tr>\n",
       "      <th>7008</th>\n",
       "      <td>test010_00699</td>\n",
       "      <td>NaN</td>\n",
       "    </tr>\n",
       "    <tr>\n",
       "      <th>7009</th>\n",
       "      <td>test010_00700</td>\n",
       "      <td>NaN</td>\n",
       "    </tr>\n",
       "  </tbody>\n",
       "</table>\n",
       "<p>7010 rows × 2 columns</p>\n",
       "</div>"
      ],
      "text/plain": [
       "                 id labels\n",
       "0     test001_00000      W\n",
       "1     test001_00001      W\n",
       "2     test001_00002      W\n",
       "3     test001_00003    NaN\n",
       "4     test001_00004    NaN\n",
       "...             ...    ...\n",
       "7005  test010_00696    NaN\n",
       "7006  test010_00697    NaN\n",
       "7007  test010_00698    NaN\n",
       "7008  test010_00699    NaN\n",
       "7009  test010_00700    NaN\n",
       "\n",
       "[7010 rows x 2 columns]"
      ]
     },
     "execution_count": 22,
     "metadata": {},
     "output_type": "execute_result"
    }
   ],
   "source": [
    "samp"
   ]
  },
  {
   "cell_type": "code",
   "execution_count": 23,
   "id": "55ea9ae1",
   "metadata": {
    "execution": {
     "iopub.execute_input": "2025-02-22T07:20:45.535864Z",
     "iopub.status.busy": "2025-02-22T07:20:45.535506Z",
     "iopub.status.idle": "2025-02-22T07:20:45.552305Z",
     "shell.execute_reply": "2025-02-22T07:20:45.551432Z"
    },
    "papermill": {
     "duration": 2.936759,
     "end_time": "2025-02-22T07:20:45.553533",
     "exception": false,
     "start_time": "2025-02-22T07:20:42.616774",
     "status": "completed"
    },
    "tags": []
   },
   "outputs": [],
   "source": [
    "merged_df = pd.merge(samp, temp_sub, on='id', how='left')  # Example: Inner join on 'id'"
   ]
  },
  {
   "cell_type": "code",
   "execution_count": 24,
   "id": "aa85e841",
   "metadata": {
    "execution": {
     "iopub.execute_input": "2025-02-22T07:20:50.928000Z",
     "iopub.status.busy": "2025-02-22T07:20:50.927647Z",
     "iopub.status.idle": "2025-02-22T07:20:50.933194Z",
     "shell.execute_reply": "2025-02-22T07:20:50.932075Z"
    },
    "papermill": {
     "duration": 2.626729,
     "end_time": "2025-02-22T07:20:50.935128",
     "exception": false,
     "start_time": "2025-02-22T07:20:48.308399",
     "status": "completed"
    },
    "tags": []
   },
   "outputs": [],
   "source": [
    "merged_df.drop(columns = 'labels_x',inplace =True)\n",
    "merged_df.rename(columns = {\"labels_y\" : \"labels\"} ,inplace =True)"
   ]
  },
  {
   "cell_type": "code",
   "execution_count": 25,
   "id": "a4a631a4",
   "metadata": {
    "execution": {
     "iopub.execute_input": "2025-02-22T07:20:56.609463Z",
     "iopub.status.busy": "2025-02-22T07:20:56.609135Z",
     "iopub.status.idle": "2025-02-22T07:20:56.622857Z",
     "shell.execute_reply": "2025-02-22T07:20:56.621927Z"
    },
    "papermill": {
     "duration": 2.905049,
     "end_time": "2025-02-22T07:20:56.624318",
     "exception": false,
     "start_time": "2025-02-22T07:20:53.719269",
     "status": "completed"
    },
    "tags": []
   },
   "outputs": [],
   "source": [
    "merged_df.to_csv(\"sample_sub.csv\",index=False)"
   ]
  },
  {
   "cell_type": "code",
   "execution_count": null,
   "id": "b0af9a8c",
   "metadata": {
    "papermill": {
     "duration": 3.054546,
     "end_time": "2025-02-22T07:21:02.299874",
     "exception": false,
     "start_time": "2025-02-22T07:20:59.245328",
     "status": "completed"
    },
    "tags": []
   },
   "outputs": [],
   "source": []
  }
 ],
 "metadata": {
  "kaggle": {
   "accelerator": "nvidiaTeslaT4",
   "dataSources": [
    {
     "databundleVersionId": 11176101,
     "sourceId": 93889,
     "sourceType": "competition"
    }
   ],
   "dockerImageVersionId": 30919,
   "isGpuEnabled": true,
   "isInternetEnabled": true,
   "language": "python",
   "sourceType": "notebook"
  },
  "kernelspec": {
   "display_name": "Python 3",
   "language": "python",
   "name": "python3"
  },
  "language_info": {
   "codemirror_mode": {
    "name": "ipython",
    "version": 3
   },
   "file_extension": ".py",
   "mimetype": "text/x-python",
   "name": "python",
   "nbconvert_exporter": "python",
   "pygments_lexer": "ipython3",
   "version": "3.10.12"
  },
  "papermill": {
   "default_parameters": {},
   "duration": 26312.791315,
   "end_time": "2025-02-22T07:21:08.005695",
   "environment_variables": {},
   "exception": null,
   "input_path": "__notebook__.ipynb",
   "output_path": "__notebook__.ipynb",
   "parameters": {},
   "start_time": "2025-02-22T00:02:35.214380",
   "version": "2.6.0"
  }
 },
 "nbformat": 4,
 "nbformat_minor": 5
}
